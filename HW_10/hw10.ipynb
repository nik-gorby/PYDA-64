{
 "cells": [
  {
   "cell_type": "markdown",
   "metadata": {},
   "source": [
    "### **Задание 1**\n",
    "Для датафрейма log из материалов занятия создайте столбец source_type по правилам:\n",
    "\n",
    "- если источник traffic_source равен Yandex или Google, то в source_type ставится organic;\n",
    "- для источников paid и email из России ставим ad;\n",
    "- для источников paid и email не из России ставим other;\n",
    "- все остальные варианты берём из traffic_source без изменений."
   ]
  }
 ],
 "metadata": {
  "language_info": {
   "name": "python"
  }
 },
 "nbformat": 4,
 "nbformat_minor": 2
}
