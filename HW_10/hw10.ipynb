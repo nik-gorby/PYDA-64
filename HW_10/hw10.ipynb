{
 "cells": [
  {
   "cell_type": "markdown",
   "metadata": {},
   "source": [
    "Необходимые импорты"
   ]
  },
  {
   "cell_type": "code",
   "execution_count": 2,
   "metadata": {},
   "outputs": [],
   "source": [
    "import pandas as pd"
   ]
  },
  {
   "cell_type": "markdown",
   "metadata": {},
   "source": [
    "### **Задание 1**\n",
    "\n",
    "Для датафрейма log из материалов занятия создайте столбец source_type по правилам:\n",
    "\n",
    "-   если источник traffic_source равен Yandex или Google, то в source_type ставится organic;\n",
    "-   для источников paid и email из России ставим ad;\n",
    "-   для источников paid и email не из России ставим other;\n",
    "-   все остальные варианты берём из traffic_source без изменений.\n"
   ]
  },
  {
   "cell_type": "markdown",
   "metadata": {},
   "source": [
    "Загрузим датасет"
   ]
  },
  {
   "cell_type": "code",
   "execution_count": 9,
   "metadata": {},
   "outputs": [],
   "source": [
    "df_log = pd.read_csv('./visit_log.csv', sep=';')"
   ]
  },
  {
   "cell_type": "code",
   "execution_count": 4,
   "metadata": {},
   "outputs": [
    {
     "name": "stdout",
     "output_type": "stream",
     "text": [
      "<class 'pandas.core.frame.DataFrame'>\n",
      "RangeIndex: 18938 entries, 0 to 18937\n",
      "Data columns (total 6 columns):\n",
      " #   Column          Non-Null Count  Dtype \n",
      "---  ------          --------------  ----- \n",
      " 0   timestamp       18938 non-null  int64 \n",
      " 1   visit_id        18938 non-null  object\n",
      " 2   url             18938 non-null  object\n",
      " 3   region          18938 non-null  object\n",
      " 4   user_id         18938 non-null  object\n",
      " 5   traffic_source  18938 non-null  object\n",
      "dtypes: int64(1), object(5)\n",
      "memory usage: 887.8+ KB\n"
     ]
    }
   ],
   "source": [
    "df_log.info()"
   ]
  },
  {
   "cell_type": "code",
   "execution_count": 5,
   "metadata": {},
   "outputs": [
    {
     "data": {
      "text/plain": [
       "array(['Russia', 'China', 'India', 'Ukraine', 'Belarus', 'Australia'],\n",
       "      dtype=object)"
      ]
     },
     "execution_count": 5,
     "metadata": {},
     "output_type": "execute_result"
    }
   ],
   "source": [
    "df_log['region'].unique()"
   ]
  },
  {
   "cell_type": "markdown",
   "metadata": {},
   "source": [
    "Создадим и заполним столбец **'data_source'** согласно правилам"
   ]
  },
  {
   "cell_type": "code",
   "execution_count": 23,
   "metadata": {},
   "outputs": [
    {
     "name": "stdout",
     "output_type": "stream",
     "text": [
      "CPU times: user 28.9 ms, sys: 7.84 ms, total: 36.7 ms\n",
      "Wall time: 34.8 ms\n"
     ]
    },
    {
     "data": {
      "text/html": [
       "<div>\n",
       "<style scoped>\n",
       "    .dataframe tbody tr th:only-of-type {\n",
       "        vertical-align: middle;\n",
       "    }\n",
       "\n",
       "    .dataframe tbody tr th {\n",
       "        vertical-align: top;\n",
       "    }\n",
       "\n",
       "    .dataframe thead th {\n",
       "        text-align: right;\n",
       "    }\n",
       "</style>\n",
       "<table border=\"1\" class=\"dataframe\">\n",
       "  <thead>\n",
       "    <tr style=\"text-align: right;\">\n",
       "      <th></th>\n",
       "      <th>timestamp</th>\n",
       "      <th>visit_id</th>\n",
       "      <th>url</th>\n",
       "      <th>region</th>\n",
       "      <th>user_id</th>\n",
       "      <th>traffic_source</th>\n",
       "      <th>source_type</th>\n",
       "    </tr>\n",
       "  </thead>\n",
       "  <tbody>\n",
       "    <tr>\n",
       "      <th>5739</th>\n",
       "      <td>1550015235</td>\n",
       "      <td>63a68ba89c</td>\n",
       "      <td>https://host.ru/fd32c3d2de55949865</td>\n",
       "      <td>Belarus</td>\n",
       "      <td>eb02c3917f</td>\n",
       "      <td>direct</td>\n",
       "      <td>direct</td>\n",
       "    </tr>\n",
       "    <tr>\n",
       "      <th>2953</th>\n",
       "      <td>1549998574</td>\n",
       "      <td>da93e11af4</td>\n",
       "      <td>https://host.ru/6fda01ec57f23abc9e</td>\n",
       "      <td>Belarus</td>\n",
       "      <td>fcefeed6eb</td>\n",
       "      <td>google</td>\n",
       "      <td>organic</td>\n",
       "    </tr>\n",
       "    <tr>\n",
       "      <th>6188</th>\n",
       "      <td>1550017927</td>\n",
       "      <td>dcaf55f610</td>\n",
       "      <td>https://host.ru/ac2d98a5a63e7c6e28</td>\n",
       "      <td>Russia</td>\n",
       "      <td>6dd3906cb0</td>\n",
       "      <td>direct</td>\n",
       "      <td>direct</td>\n",
       "    </tr>\n",
       "    <tr>\n",
       "      <th>11229</th>\n",
       "      <td>1550047817</td>\n",
       "      <td>270febf1a4</td>\n",
       "      <td>https://host.ru/c8d9213a31839f9a3a</td>\n",
       "      <td>Russia</td>\n",
       "      <td>67c68701d6</td>\n",
       "      <td>direct</td>\n",
       "      <td>direct</td>\n",
       "    </tr>\n",
       "    <tr>\n",
       "      <th>1251</th>\n",
       "      <td>1549988158</td>\n",
       "      <td>d286dd1fa5</td>\n",
       "      <td>https://host.ru/3c19b4ef7371864fa3</td>\n",
       "      <td>Russia</td>\n",
       "      <td>cd91a91068</td>\n",
       "      <td>yandex</td>\n",
       "      <td>organic</td>\n",
       "    </tr>\n",
       "    <tr>\n",
       "      <th>15673</th>\n",
       "      <td>1550074396</td>\n",
       "      <td>b6119bfefe</td>\n",
       "      <td>https://host.ru/3004a8273caeef2867</td>\n",
       "      <td>Belarus</td>\n",
       "      <td>6509a02703</td>\n",
       "      <td>email</td>\n",
       "      <td>other</td>\n",
       "    </tr>\n",
       "    <tr>\n",
       "      <th>6953</th>\n",
       "      <td>1550022420</td>\n",
       "      <td>a7aaf02acc</td>\n",
       "      <td>https://host.ru/39fa884393666d45fc</td>\n",
       "      <td>Belarus</td>\n",
       "      <td>0099f22c43</td>\n",
       "      <td>email</td>\n",
       "      <td>other</td>\n",
       "    </tr>\n",
       "    <tr>\n",
       "      <th>10328</th>\n",
       "      <td>1550042400</td>\n",
       "      <td>ee67aec391</td>\n",
       "      <td>https://host.ru/2fcb223266880ccf57</td>\n",
       "      <td>Russia</td>\n",
       "      <td>8db30b9e02</td>\n",
       "      <td>direct</td>\n",
       "      <td>direct</td>\n",
       "    </tr>\n",
       "    <tr>\n",
       "      <th>17828</th>\n",
       "      <td>1550087540</td>\n",
       "      <td>c7fd5493db</td>\n",
       "      <td>https://host.ru/c2382eb3d6afc8d0f3</td>\n",
       "      <td>Belarus</td>\n",
       "      <td>f7db4b25c0</td>\n",
       "      <td>paid</td>\n",
       "      <td>other</td>\n",
       "    </tr>\n",
       "    <tr>\n",
       "      <th>6576</th>\n",
       "      <td>1550020179</td>\n",
       "      <td>5c1d7e0c94</td>\n",
       "      <td>https://host.ru/8e88d4703848cc0ec4</td>\n",
       "      <td>Russia</td>\n",
       "      <td>eb99c5bbfd</td>\n",
       "      <td>paid</td>\n",
       "      <td>ad</td>\n",
       "    </tr>\n",
       "  </tbody>\n",
       "</table>\n",
       "</div>"
      ],
      "text/plain": [
       "        timestamp    visit_id                                 url   region  \\\n",
       "5739   1550015235  63a68ba89c  https://host.ru/fd32c3d2de55949865  Belarus   \n",
       "2953   1549998574  da93e11af4  https://host.ru/6fda01ec57f23abc9e  Belarus   \n",
       "6188   1550017927  dcaf55f610  https://host.ru/ac2d98a5a63e7c6e28   Russia   \n",
       "11229  1550047817  270febf1a4  https://host.ru/c8d9213a31839f9a3a   Russia   \n",
       "1251   1549988158  d286dd1fa5  https://host.ru/3c19b4ef7371864fa3   Russia   \n",
       "15673  1550074396  b6119bfefe  https://host.ru/3004a8273caeef2867  Belarus   \n",
       "6953   1550022420  a7aaf02acc  https://host.ru/39fa884393666d45fc  Belarus   \n",
       "10328  1550042400  ee67aec391  https://host.ru/2fcb223266880ccf57   Russia   \n",
       "17828  1550087540  c7fd5493db  https://host.ru/c2382eb3d6afc8d0f3  Belarus   \n",
       "6576   1550020179  5c1d7e0c94  https://host.ru/8e88d4703848cc0ec4   Russia   \n",
       "\n",
       "          user_id traffic_source source_type  \n",
       "5739   eb02c3917f         direct      direct  \n",
       "2953   fcefeed6eb         google     organic  \n",
       "6188   6dd3906cb0         direct      direct  \n",
       "11229  67c68701d6         direct      direct  \n",
       "1251   cd91a91068         yandex     organic  \n",
       "15673  6509a02703          email       other  \n",
       "6953   0099f22c43          email       other  \n",
       "10328  8db30b9e02         direct      direct  \n",
       "17828  f7db4b25c0           paid       other  \n",
       "6576   eb99c5bbfd           paid          ad  "
      ]
     },
     "execution_count": 23,
     "metadata": {},
     "output_type": "execute_result"
    }
   ],
   "source": [
    "%%time\n",
    "\n",
    "df_log.loc[df_log.traffic_source == 'yandex', 'source_type'] = 'organic'\n",
    "df_log.loc[df_log.traffic_source == 'google', 'source_type'] = 'organic'\n",
    "df_log.loc[(df_log.traffic_source.isin(['paid', 'email'])) &\n",
    "           (df_log['region'] == 'Russia'), 'source_type'] = 'ad'\n",
    "df_log.loc[(df_log.traffic_source.isin(['paid', 'email'])) &\n",
    "           (df_log.region != 'Russia'), 'source_type'] = 'other'\n",
    "df_log.loc[df_log['source_type'].isna(), 'source_type'] = df_log['traffic_source']\n",
    "df_log.sample(10)"
   ]
  },
  {
   "cell_type": "markdown",
   "metadata": {},
   "source": [
    "### **Задание 2**\n",
    "В файле URLs.txt содержатся URL страниц новостного сайта. Вам нужно отфильтровать его по адресам страниц с текстами новостей. Известно, что шаблон страницы новостей имеет внутри URL конструкцию: /, затем 8 цифр, затем дефис. Выполните действия:\n",
    "\n",
    "Прочитайте содержимое файла с датафрейм.\n",
    "Отфильтруйте страницы с текстом новостей, используя метод str.contains и регулярное выражение в соответствие с заданным шаблоном."
   ]
  },
  {
   "cell_type": "markdown",
   "metadata": {},
   "source": [
    "Загрузим датасет"
   ]
  },
  {
   "cell_type": "code",
   "execution_count": 24,
   "metadata": {},
   "outputs": [],
   "source": [
    "df_url = pd.read_csv('./URLs.txt')"
   ]
  },
  {
   "cell_type": "code",
   "execution_count": 25,
   "metadata": {},
   "outputs": [
    {
     "data": {
      "text/html": [
       "<div>\n",
       "<style scoped>\n",
       "    .dataframe tbody tr th:only-of-type {\n",
       "        vertical-align: middle;\n",
       "    }\n",
       "\n",
       "    .dataframe tbody tr th {\n",
       "        vertical-align: top;\n",
       "    }\n",
       "\n",
       "    .dataframe thead th {\n",
       "        text-align: right;\n",
       "    }\n",
       "</style>\n",
       "<table border=\"1\" class=\"dataframe\">\n",
       "  <thead>\n",
       "    <tr style=\"text-align: right;\">\n",
       "      <th></th>\n",
       "      <th>url</th>\n",
       "    </tr>\n",
       "  </thead>\n",
       "  <tbody>\n",
       "    <tr>\n",
       "      <th>0</th>\n",
       "      <td>/world/</td>\n",
       "    </tr>\n",
       "    <tr>\n",
       "      <th>1</th>\n",
       "      <td>/latest/</td>\n",
       "    </tr>\n",
       "    <tr>\n",
       "      <th>2</th>\n",
       "      <td>/?updated=top</td>\n",
       "    </tr>\n",
       "    <tr>\n",
       "      <th>3</th>\n",
       "      <td>/politics/36188461-s-marta-zhizn-rossiyan-susc...</td>\n",
       "    </tr>\n",
       "    <tr>\n",
       "      <th>4</th>\n",
       "      <td>/world/36007585-tramp-pridumal-kak-reshit-ukra...</td>\n",
       "    </tr>\n",
       "  </tbody>\n",
       "</table>\n",
       "</div>"
      ],
      "text/plain": [
       "                                                 url\n",
       "0                                            /world/\n",
       "1                                           /latest/\n",
       "2                                      /?updated=top\n",
       "3  /politics/36188461-s-marta-zhizn-rossiyan-susc...\n",
       "4  /world/36007585-tramp-pridumal-kak-reshit-ukra..."
      ]
     },
     "execution_count": 25,
     "metadata": {},
     "output_type": "execute_result"
    }
   ],
   "source": [
    "df_url.head()"
   ]
  },
  {
   "cell_type": "code",
   "execution_count": 26,
   "metadata": {},
   "outputs": [
    {
     "name": "stdout",
     "output_type": "stream",
     "text": [
      "<class 'pandas.core.frame.DataFrame'>\n",
      "RangeIndex: 93 entries, 0 to 92\n",
      "Data columns (total 1 columns):\n",
      " #   Column  Non-Null Count  Dtype \n",
      "---  ------  --------------  ----- \n",
      " 0   url     93 non-null     object\n",
      "dtypes: object(1)\n",
      "memory usage: 876.0+ bytes\n"
     ]
    }
   ],
   "source": [
    "df_url.info()"
   ]
  },
  {
   "cell_type": "markdown",
   "metadata": {},
   "source": [
    "Отфильтруем новости по заданному шаблону, используя регулярное выражение"
   ]
  },
  {
   "cell_type": "code",
   "execution_count": 29,
   "metadata": {},
   "outputs": [
    {
     "data": {
      "text/html": [
       "<div>\n",
       "<style scoped>\n",
       "    .dataframe tbody tr th:only-of-type {\n",
       "        vertical-align: middle;\n",
       "    }\n",
       "\n",
       "    .dataframe tbody tr th {\n",
       "        vertical-align: top;\n",
       "    }\n",
       "\n",
       "    .dataframe thead th {\n",
       "        text-align: right;\n",
       "    }\n",
       "</style>\n",
       "<table border=\"1\" class=\"dataframe\">\n",
       "  <thead>\n",
       "    <tr style=\"text-align: right;\">\n",
       "      <th></th>\n",
       "      <th>url</th>\n",
       "    </tr>\n",
       "  </thead>\n",
       "  <tbody>\n",
       "    <tr>\n",
       "      <th>80</th>\n",
       "      <td>/sport/36235520-v-britanii-razgorelsya-krupney...</td>\n",
       "    </tr>\n",
       "    <tr>\n",
       "      <th>40</th>\n",
       "      <td>/head/36038043-foto-otdyhayuschiy-obama-vzbudo...</td>\n",
       "    </tr>\n",
       "    <tr>\n",
       "      <th>44</th>\n",
       "      <td>/incidents/36173928-v-ekaterinburge-migranty-u...</td>\n",
       "    </tr>\n",
       "    <tr>\n",
       "      <th>6</th>\n",
       "      <td>/video/36001498-poyavilis-pervye-podrobnosti-g...</td>\n",
       "    </tr>\n",
       "    <tr>\n",
       "      <th>42</th>\n",
       "      <td>/video/36006794-pogibshaya-melamed-ostavila-pr...</td>\n",
       "    </tr>\n",
       "    <tr>\n",
       "      <th>67</th>\n",
       "      <td>/middleeast/36024757-v-sekretnoy-tyurme-v-siri...</td>\n",
       "    </tr>\n",
       "    <tr>\n",
       "      <th>62</th>\n",
       "      <td>/starlife/36053306-dzhigarhanyan-dal-shokiruyu...</td>\n",
       "    </tr>\n",
       "    <tr>\n",
       "      <th>22</th>\n",
       "      <td>/world/36075956-na-granitse-s-krymom-zahvachen...</td>\n",
       "    </tr>\n",
       "    <tr>\n",
       "      <th>15</th>\n",
       "      <td>/video/36012692-tramp-otkrestilsya-ot-rossii-i...</td>\n",
       "    </tr>\n",
       "    <tr>\n",
       "      <th>35</th>\n",
       "      <td>/business/36187789-v-rf-hotyat-povysit-nalogi-...</td>\n",
       "    </tr>\n",
       "  </tbody>\n",
       "</table>\n",
       "</div>"
      ],
      "text/plain": [
       "                                                  url\n",
       "80  /sport/36235520-v-britanii-razgorelsya-krupney...\n",
       "40  /head/36038043-foto-otdyhayuschiy-obama-vzbudo...\n",
       "44  /incidents/36173928-v-ekaterinburge-migranty-u...\n",
       "6   /video/36001498-poyavilis-pervye-podrobnosti-g...\n",
       "42  /video/36006794-pogibshaya-melamed-ostavila-pr...\n",
       "67  /middleeast/36024757-v-sekretnoy-tyurme-v-siri...\n",
       "62  /starlife/36053306-dzhigarhanyan-dal-shokiruyu...\n",
       "22  /world/36075956-na-granitse-s-krymom-zahvachen...\n",
       "15  /video/36012692-tramp-otkrestilsya-ot-rossii-i...\n",
       "35  /business/36187789-v-rf-hotyat-povysit-nalogi-..."
      ]
     },
     "execution_count": 29,
     "metadata": {},
     "output_type": "execute_result"
    }
   ],
   "source": [
    "df_news_filtered = df_url.loc[df_url['url'].str.contains(r'/\\d{8}-', regex=True)]\n",
    "df_news_filtered.sample(10)"
   ]
  }
 ],
 "metadata": {
  "kernelspec": {
   "display_name": "venv",
   "language": "python",
   "name": "python3"
  },
  "language_info": {
   "codemirror_mode": {
    "name": "ipython",
    "version": 3
   },
   "file_extension": ".py",
   "mimetype": "text/x-python",
   "name": "python",
   "nbconvert_exporter": "python",
   "pygments_lexer": "ipython3",
   "version": "3.12.3"
  }
 },
 "nbformat": 4,
 "nbformat_minor": 2
}
