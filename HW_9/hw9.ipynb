{
 "cells": [
  {
   "cell_type": "markdown",
   "metadata": {},
   "source": [
    "## Домашнее задание «Функции и работа с данными»"
   ]
  },
  {
   "cell_type": "markdown",
   "metadata": {},
   "source": [
    "Необходимые импорты."
   ]
  },
  {
   "cell_type": "code",
   "execution_count": 2,
   "metadata": {},
   "outputs": [],
   "source": [
    "import pandas as pd\n",
    "import numpy as np"
   ]
  },
  {
   "cell_type": "markdown",
   "metadata": {},
   "source": [
    "### **Задание 1**\n",
    "Напишите функцию, которая классифицирует фильмы из материалов занятия по правилам:\n",
    "\n",
    "- оценка 2 и ниже — низкий рейтинг;\n",
    "- оценка 4 и ниже — средний рейтинг;\n",
    "- оценка 4.5 и 5 — высокий рейтинг.\n",
    "\n",
    "\n",
    "Результат классификации запишите в столбец class."
   ]
  },
  {
   "cell_type": "markdown",
   "metadata": {},
   "source": [
    "**Загрузим датасеты**"
   ]
  },
  {
   "cell_type": "code",
   "execution_count": 3,
   "metadata": {},
   "outputs": [],
   "source": [
    "df_films = pd.read_csv('./movies.csv')\n",
    "df_ratings = pd.read_csv('./ratings.csv')"
   ]
  },
  {
   "cell_type": "code",
   "execution_count": 4,
   "metadata": {},
   "outputs": [
    {
     "data": {
      "text/html": [
       "<div>\n",
       "<style scoped>\n",
       "    .dataframe tbody tr th:only-of-type {\n",
       "        vertical-align: middle;\n",
       "    }\n",
       "\n",
       "    .dataframe tbody tr th {\n",
       "        vertical-align: top;\n",
       "    }\n",
       "\n",
       "    .dataframe thead th {\n",
       "        text-align: right;\n",
       "    }\n",
       "</style>\n",
       "<table border=\"1\" class=\"dataframe\">\n",
       "  <thead>\n",
       "    <tr style=\"text-align: right;\">\n",
       "      <th></th>\n",
       "      <th>userId</th>\n",
       "      <th>movieId</th>\n",
       "      <th>rating</th>\n",
       "      <th>timestamp</th>\n",
       "    </tr>\n",
       "  </thead>\n",
       "  <tbody>\n",
       "    <tr>\n",
       "      <th>481</th>\n",
       "      <td>6</td>\n",
       "      <td>3052</td>\n",
       "      <td>1.0</td>\n",
       "      <td>1108134337</td>\n",
       "    </tr>\n",
       "    <tr>\n",
       "      <th>25352</th>\n",
       "      <td>185</td>\n",
       "      <td>3438</td>\n",
       "      <td>3.0</td>\n",
       "      <td>1003523891</td>\n",
       "    </tr>\n",
       "    <tr>\n",
       "      <th>74024</th>\n",
       "      <td>517</td>\n",
       "      <td>208</td>\n",
       "      <td>5.0</td>\n",
       "      <td>846449929</td>\n",
       "    </tr>\n",
       "    <tr>\n",
       "      <th>53853</th>\n",
       "      <td>388</td>\n",
       "      <td>1213</td>\n",
       "      <td>5.0</td>\n",
       "      <td>946522591</td>\n",
       "    </tr>\n",
       "    <tr>\n",
       "      <th>90590</th>\n",
       "      <td>601</td>\n",
       "      <td>52885</td>\n",
       "      <td>4.0</td>\n",
       "      <td>1270254592</td>\n",
       "    </tr>\n",
       "  </tbody>\n",
       "</table>\n",
       "</div>"
      ],
      "text/plain": [
       "       userId  movieId  rating   timestamp\n",
       "481         6     3052     1.0  1108134337\n",
       "25352     185     3438     3.0  1003523891\n",
       "74024     517      208     5.0   846449929\n",
       "53853     388     1213     5.0   946522591\n",
       "90590     601    52885     4.0  1270254592"
      ]
     },
     "execution_count": 4,
     "metadata": {},
     "output_type": "execute_result"
    }
   ],
   "source": [
    "df_ratings.sample(5)"
   ]
  },
  {
   "cell_type": "code",
   "execution_count": 5,
   "metadata": {},
   "outputs": [
    {
     "data": {
      "text/html": [
       "<div>\n",
       "<style scoped>\n",
       "    .dataframe tbody tr th:only-of-type {\n",
       "        vertical-align: middle;\n",
       "    }\n",
       "\n",
       "    .dataframe tbody tr th {\n",
       "        vertical-align: top;\n",
       "    }\n",
       "\n",
       "    .dataframe thead th {\n",
       "        text-align: right;\n",
       "    }\n",
       "</style>\n",
       "<table border=\"1\" class=\"dataframe\">\n",
       "  <thead>\n",
       "    <tr style=\"text-align: right;\">\n",
       "      <th></th>\n",
       "      <th>movieId</th>\n",
       "      <th>title</th>\n",
       "      <th>genres</th>\n",
       "    </tr>\n",
       "  </thead>\n",
       "  <tbody>\n",
       "    <tr>\n",
       "      <th>3591</th>\n",
       "      <td>4561</td>\n",
       "      <td>Waxwork (1988)</td>\n",
       "      <td>Comedy|Horror</td>\n",
       "    </tr>\n",
       "    <tr>\n",
       "      <th>5719</th>\n",
       "      <td>26007</td>\n",
       "      <td>Unknown Soldier, The (Tuntematon sotilas) (1955)</td>\n",
       "      <td>Drama|War</td>\n",
       "    </tr>\n",
       "    <tr>\n",
       "      <th>2297</th>\n",
       "      <td>2868</td>\n",
       "      <td>Fright Night Part II (1988)</td>\n",
       "      <td>Horror</td>\n",
       "    </tr>\n",
       "    <tr>\n",
       "      <th>6310</th>\n",
       "      <td>41573</td>\n",
       "      <td>Family Stone, The (2005)</td>\n",
       "      <td>Comedy|Drama|Romance</td>\n",
       "    </tr>\n",
       "    <tr>\n",
       "      <th>6430</th>\n",
       "      <td>45440</td>\n",
       "      <td>Art School Confidential (2006)</td>\n",
       "      <td>Comedy|Drama</td>\n",
       "    </tr>\n",
       "  </tbody>\n",
       "</table>\n",
       "</div>"
      ],
      "text/plain": [
       "      movieId                                             title  \\\n",
       "3591     4561                                    Waxwork (1988)   \n",
       "5719    26007  Unknown Soldier, The (Tuntematon sotilas) (1955)   \n",
       "2297     2868                       Fright Night Part II (1988)   \n",
       "6310    41573                          Family Stone, The (2005)   \n",
       "6430    45440                    Art School Confidential (2006)   \n",
       "\n",
       "                    genres  \n",
       "3591         Comedy|Horror  \n",
       "5719             Drama|War  \n",
       "2297                Horror  \n",
       "6310  Comedy|Drama|Romance  \n",
       "6430          Comedy|Drama  "
      ]
     },
     "execution_count": 5,
     "metadata": {},
     "output_type": "execute_result"
    }
   ],
   "source": [
    "df_films.sample(5)"
   ]
  },
  {
   "cell_type": "markdown",
   "metadata": {},
   "source": [
    "**Объединим датасеты**"
   ]
  },
  {
   "cell_type": "code",
   "execution_count": 6,
   "metadata": {},
   "outputs": [],
   "source": [
    "df_films_rating = df_films.merge(df_ratings, on=['movieId'])"
   ]
  },
  {
   "cell_type": "code",
   "execution_count": 7,
   "metadata": {},
   "outputs": [
    {
     "data": {
      "text/html": [
       "<div>\n",
       "<style scoped>\n",
       "    .dataframe tbody tr th:only-of-type {\n",
       "        vertical-align: middle;\n",
       "    }\n",
       "\n",
       "    .dataframe tbody tr th {\n",
       "        vertical-align: top;\n",
       "    }\n",
       "\n",
       "    .dataframe thead th {\n",
       "        text-align: right;\n",
       "    }\n",
       "</style>\n",
       "<table border=\"1\" class=\"dataframe\">\n",
       "  <thead>\n",
       "    <tr style=\"text-align: right;\">\n",
       "      <th></th>\n",
       "      <th>movieId</th>\n",
       "      <th>title</th>\n",
       "      <th>genres</th>\n",
       "      <th>userId</th>\n",
       "      <th>rating</th>\n",
       "      <th>timestamp</th>\n",
       "    </tr>\n",
       "  </thead>\n",
       "  <tbody>\n",
       "    <tr>\n",
       "      <th>23472</th>\n",
       "      <td>921</td>\n",
       "      <td>My Favorite Year (1982)</td>\n",
       "      <td>Comedy</td>\n",
       "      <td>232</td>\n",
       "      <td>4.0</td>\n",
       "      <td>955089975</td>\n",
       "    </tr>\n",
       "    <tr>\n",
       "      <th>28678</th>\n",
       "      <td>1197</td>\n",
       "      <td>Princess Bride, The (1987)</td>\n",
       "      <td>Action|Adventure|Comedy|Fantasy|Romance</td>\n",
       "      <td>562</td>\n",
       "      <td>5.0</td>\n",
       "      <td>1167428254</td>\n",
       "    </tr>\n",
       "    <tr>\n",
       "      <th>41756</th>\n",
       "      <td>1894</td>\n",
       "      <td>Six Days Seven Nights (1998)</td>\n",
       "      <td>Adventure|Comedy|Romance</td>\n",
       "      <td>150</td>\n",
       "      <td>2.0</td>\n",
       "      <td>1140424652</td>\n",
       "    </tr>\n",
       "    <tr>\n",
       "      <th>20743</th>\n",
       "      <td>762</td>\n",
       "      <td>Striptease (1996)</td>\n",
       "      <td>Comedy|Crime</td>\n",
       "      <td>252</td>\n",
       "      <td>3.0</td>\n",
       "      <td>869101734</td>\n",
       "    </tr>\n",
       "    <tr>\n",
       "      <th>34306</th>\n",
       "      <td>1307</td>\n",
       "      <td>When Harry Met Sally... (1989)</td>\n",
       "      <td>Comedy|Romance</td>\n",
       "      <td>63</td>\n",
       "      <td>2.0</td>\n",
       "      <td>1079098251</td>\n",
       "    </tr>\n",
       "  </tbody>\n",
       "</table>\n",
       "</div>"
      ],
      "text/plain": [
       "       movieId                           title  \\\n",
       "23472      921         My Favorite Year (1982)   \n",
       "28678     1197      Princess Bride, The (1987)   \n",
       "41756     1894    Six Days Seven Nights (1998)   \n",
       "20743      762               Striptease (1996)   \n",
       "34306     1307  When Harry Met Sally... (1989)   \n",
       "\n",
       "                                        genres  userId  rating   timestamp  \n",
       "23472                                   Comedy     232     4.0   955089975  \n",
       "28678  Action|Adventure|Comedy|Fantasy|Romance     562     5.0  1167428254  \n",
       "41756                 Adventure|Comedy|Romance     150     2.0  1140424652  \n",
       "20743                             Comedy|Crime     252     3.0   869101734  \n",
       "34306                           Comedy|Romance      63     2.0  1079098251  "
      ]
     },
     "execution_count": 7,
     "metadata": {},
     "output_type": "execute_result"
    }
   ],
   "source": [
    "df_films_rating.sample(5)"
   ]
  },
  {
   "cell_type": "markdown",
   "metadata": {},
   "source": [
    "**Функция для классификации рейтинга**"
   ]
  },
  {
   "cell_type": "code",
   "execution_count": 8,
   "metadata": {},
   "outputs": [],
   "source": [
    "def df_rate_classification(rating):\n",
    "    \"\"\"Функция классификации рейтинга\n",
    "\n",
    "    Args:\n",
    "        rating (float): значение рейтинга\n",
    "\n",
    "    Returns:\n",
    "        str: класс рейтинга\n",
    "    \"\"\"    \n",
    "        \n",
    "    match rating:\n",
    "        case rating if rating >= 4.5:\n",
    "            return 'High rate'\n",
    "        case rating if 2 < rating <= 4:\n",
    "            return 'Middle rate'\n",
    "        case rating if rating <= 2:\n",
    "            return 'Low rate'\n",
    "  "
   ]
  },
  {
   "cell_type": "markdown",
   "metadata": {},
   "source": [
    "**Применим функцию к столбцу rating**"
   ]
  },
  {
   "cell_type": "code",
   "execution_count": 9,
   "metadata": {},
   "outputs": [],
   "source": [
    "df_films_rating['Class'] = df_films_rating['rating'].apply(df_rate_classification)"
   ]
  },
  {
   "cell_type": "code",
   "execution_count": 10,
   "metadata": {},
   "outputs": [
    {
     "data": {
      "text/html": [
       "<div>\n",
       "<style scoped>\n",
       "    .dataframe tbody tr th:only-of-type {\n",
       "        vertical-align: middle;\n",
       "    }\n",
       "\n",
       "    .dataframe tbody tr th {\n",
       "        vertical-align: top;\n",
       "    }\n",
       "\n",
       "    .dataframe thead th {\n",
       "        text-align: right;\n",
       "    }\n",
       "</style>\n",
       "<table border=\"1\" class=\"dataframe\">\n",
       "  <thead>\n",
       "    <tr style=\"text-align: right;\">\n",
       "      <th></th>\n",
       "      <th>movieId</th>\n",
       "      <th>title</th>\n",
       "      <th>genres</th>\n",
       "      <th>userId</th>\n",
       "      <th>rating</th>\n",
       "      <th>timestamp</th>\n",
       "      <th>Class</th>\n",
       "    </tr>\n",
       "  </thead>\n",
       "  <tbody>\n",
       "    <tr>\n",
       "      <th>29843</th>\n",
       "      <td>1210</td>\n",
       "      <td>Star Wars: Episode VI - Return of the Jedi (1983)</td>\n",
       "      <td>Action|Adventure|Sci-Fi</td>\n",
       "      <td>660</td>\n",
       "      <td>4.0</td>\n",
       "      <td>1436680296</td>\n",
       "      <td>Middle rate</td>\n",
       "    </tr>\n",
       "    <tr>\n",
       "      <th>74565</th>\n",
       "      <td>5349</td>\n",
       "      <td>Spider-Man (2002)</td>\n",
       "      <td>Action|Adventure|Sci-Fi|Thriller</td>\n",
       "      <td>213</td>\n",
       "      <td>3.5</td>\n",
       "      <td>1462637593</td>\n",
       "      <td>Middle rate</td>\n",
       "    </tr>\n",
       "    <tr>\n",
       "      <th>92422</th>\n",
       "      <td>63082</td>\n",
       "      <td>Slumdog Millionaire (2008)</td>\n",
       "      <td>Crime|Drama|Romance</td>\n",
       "      <td>503</td>\n",
       "      <td>3.5</td>\n",
       "      <td>1432366032</td>\n",
       "      <td>Middle rate</td>\n",
       "    </tr>\n",
       "    <tr>\n",
       "      <th>88506</th>\n",
       "      <td>45950</td>\n",
       "      <td>Inconvenient Truth, An (2006)</td>\n",
       "      <td>Documentary</td>\n",
       "      <td>472</td>\n",
       "      <td>4.5</td>\n",
       "      <td>1164753215</td>\n",
       "      <td>High rate</td>\n",
       "    </tr>\n",
       "    <tr>\n",
       "      <th>11272</th>\n",
       "      <td>356</td>\n",
       "      <td>Forrest Gump (1994)</td>\n",
       "      <td>Comedy|Drama|Romance|War</td>\n",
       "      <td>510</td>\n",
       "      <td>3.0</td>\n",
       "      <td>946880364</td>\n",
       "      <td>Middle rate</td>\n",
       "    </tr>\n",
       "  </tbody>\n",
       "</table>\n",
       "</div>"
      ],
      "text/plain": [
       "       movieId                                              title  \\\n",
       "29843     1210  Star Wars: Episode VI - Return of the Jedi (1983)   \n",
       "74565     5349                                  Spider-Man (2002)   \n",
       "92422    63082                         Slumdog Millionaire (2008)   \n",
       "88506    45950                      Inconvenient Truth, An (2006)   \n",
       "11272      356                                Forrest Gump (1994)   \n",
       "\n",
       "                                 genres  userId  rating   timestamp  \\\n",
       "29843           Action|Adventure|Sci-Fi     660     4.0  1436680296   \n",
       "74565  Action|Adventure|Sci-Fi|Thriller     213     3.5  1462637593   \n",
       "92422               Crime|Drama|Romance     503     3.5  1432366032   \n",
       "88506                       Documentary     472     4.5  1164753215   \n",
       "11272          Comedy|Drama|Romance|War     510     3.0   946880364   \n",
       "\n",
       "             Class  \n",
       "29843  Middle rate  \n",
       "74565  Middle rate  \n",
       "92422  Middle rate  \n",
       "88506    High rate  \n",
       "11272  Middle rate  "
      ]
     },
     "execution_count": 10,
     "metadata": {},
     "output_type": "execute_result"
    }
   ],
   "source": [
    "df_films_rating.sample(5)"
   ]
  },
  {
   "cell_type": "markdown",
   "metadata": {},
   "source": [
    "### **Задание 2**\n",
    "Используйте файл keywords.csv.\n",
    "\n",
    "Нужно написать гео-классификатор, который каждой строке сможет выставить географическую принадлежность определённому региону. Т. е. если поисковый запрос содержит название города региона, то в столбце ‘region’ пишется название этого региона. Если поисковый запрос не содержит названия города, то ставим ‘undefined’.\n",
    "\n",
    "Правила распределения по регионам Центр, Северо-Запад и Дальний Восток:\n",
    "\n",
    "```python\n",
    "geo_data = {\n",
    "            'Центр': ['москва', 'тула', 'ярославль'],\n",
    "            'Северо-Запад': ['петербург', 'псков', 'мурманск'],\n",
    "            'Дальний Восток': ['владивосток', 'сахалин', 'хабаровск']\n",
    "            }\n",
    "```\n",
    "\n",
    "Результат классификации запишите в отдельный столбец region."
   ]
  },
  {
   "cell_type": "code",
   "execution_count": 11,
   "metadata": {},
   "outputs": [],
   "source": [
    "geo_data = {\n",
    "            'Центр': ['москва', 'тула', 'ярославль'],\n",
    "            'Северо-Запад': ['петербург', 'псков', 'мурманск'],\n",
    "            'Дальний Восток': ['владивосток', 'сахалин', 'хабаровск']\n",
    "            }"
   ]
  }
 ],
 "metadata": {
  "kernelspec": {
   "display_name": "venv",
   "language": "python",
   "name": "python3"
  },
  "language_info": {
   "codemirror_mode": {
    "name": "ipython",
    "version": 3
   },
   "file_extension": ".py",
   "mimetype": "text/x-python",
   "name": "python",
   "nbconvert_exporter": "python",
   "pygments_lexer": "ipython3",
   "version": "3.12.3"
  }
 },
 "nbformat": 4,
 "nbformat_minor": 2
}
