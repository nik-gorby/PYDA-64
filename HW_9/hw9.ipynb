{
 "cells": [
  {
   "cell_type": "markdown",
   "metadata": {},
   "source": [
    "## Домашнее задание «Функции и работа с данными»"
   ]
  },
  {
   "cell_type": "markdown",
   "metadata": {},
   "source": [
    "Необходимые импорты.."
   ]
  },
  {
   "cell_type": "code",
   "execution_count": 1,
   "metadata": {},
   "outputs": [],
   "source": [
    "import pandas as pd\n",
    "import numpy as np"
   ]
  },
  {
   "cell_type": "markdown",
   "metadata": {},
   "source": [
    "### **Задание 1**\n",
    "Напишите функцию, которая классифицирует фильмы из материалов занятия по правилам:\n",
    "\n",
    "- оценка 2 и ниже — низкий рейтинг;\n",
    "- оценка 4 и ниже — средний рейтинг;\n",
    "- оценка 4.5 и 5 — высокий рейтинг.\n",
    "\n",
    "\n",
    "Результат классификации запишите в столбец class."
   ]
  },
  {
   "cell_type": "markdown",
   "metadata": {},
   "source": [
    "**Загрузим датасеты**"
   ]
  },
  {
   "cell_type": "code",
   "execution_count": 2,
   "metadata": {},
   "outputs": [],
   "source": [
    "df_films = pd.read_csv('./movies.csv')\n",
    "df_ratings = pd.read_csv('./ratings.csv')"
   ]
  },
  {
   "cell_type": "code",
   "execution_count": 3,
   "metadata": {},
   "outputs": [
    {
     "data": {
      "text/html": [
       "<div>\n",
       "<style scoped>\n",
       "    .dataframe tbody tr th:only-of-type {\n",
       "        vertical-align: middle;\n",
       "    }\n",
       "\n",
       "    .dataframe tbody tr th {\n",
       "        vertical-align: top;\n",
       "    }\n",
       "\n",
       "    .dataframe thead th {\n",
       "        text-align: right;\n",
       "    }\n",
       "</style>\n",
       "<table border=\"1\" class=\"dataframe\">\n",
       "  <thead>\n",
       "    <tr style=\"text-align: right;\">\n",
       "      <th></th>\n",
       "      <th>userId</th>\n",
       "      <th>movieId</th>\n",
       "      <th>rating</th>\n",
       "      <th>timestamp</th>\n",
       "    </tr>\n",
       "  </thead>\n",
       "  <tbody>\n",
       "    <tr>\n",
       "      <th>72900</th>\n",
       "      <td>509</td>\n",
       "      <td>3148</td>\n",
       "      <td>4.0</td>\n",
       "      <td>1093295731</td>\n",
       "    </tr>\n",
       "    <tr>\n",
       "      <th>15393</th>\n",
       "      <td>102</td>\n",
       "      <td>342</td>\n",
       "      <td>4.0</td>\n",
       "      <td>957896110</td>\n",
       "    </tr>\n",
       "    <tr>\n",
       "      <th>58234</th>\n",
       "      <td>423</td>\n",
       "      <td>3467</td>\n",
       "      <td>4.0</td>\n",
       "      <td>1355514278</td>\n",
       "    </tr>\n",
       "    <tr>\n",
       "      <th>69863</th>\n",
       "      <td>481</td>\n",
       "      <td>86626</td>\n",
       "      <td>4.0</td>\n",
       "      <td>1437106459</td>\n",
       "    </tr>\n",
       "    <tr>\n",
       "      <th>58280</th>\n",
       "      <td>423</td>\n",
       "      <td>6373</td>\n",
       "      <td>2.0</td>\n",
       "      <td>1354570812</td>\n",
       "    </tr>\n",
       "  </tbody>\n",
       "</table>\n",
       "</div>"
      ],
      "text/plain": [
       "       userId  movieId  rating   timestamp\n",
       "72900     509     3148     4.0  1093295731\n",
       "15393     102      342     4.0   957896110\n",
       "58234     423     3467     4.0  1355514278\n",
       "69863     481    86626     4.0  1437106459\n",
       "58280     423     6373     2.0  1354570812"
      ]
     },
     "execution_count": 3,
     "metadata": {},
     "output_type": "execute_result"
    }
   ],
   "source": [
    "df_ratings.sample(5)"
   ]
  },
  {
   "cell_type": "code",
   "execution_count": 4,
   "metadata": {},
   "outputs": [
    {
     "data": {
      "text/html": [
       "<div>\n",
       "<style scoped>\n",
       "    .dataframe tbody tr th:only-of-type {\n",
       "        vertical-align: middle;\n",
       "    }\n",
       "\n",
       "    .dataframe tbody tr th {\n",
       "        vertical-align: top;\n",
       "    }\n",
       "\n",
       "    .dataframe thead th {\n",
       "        text-align: right;\n",
       "    }\n",
       "</style>\n",
       "<table border=\"1\" class=\"dataframe\">\n",
       "  <thead>\n",
       "    <tr style=\"text-align: right;\">\n",
       "      <th></th>\n",
       "      <th>movieId</th>\n",
       "      <th>title</th>\n",
       "      <th>genres</th>\n",
       "    </tr>\n",
       "  </thead>\n",
       "  <tbody>\n",
       "    <tr>\n",
       "      <th>5974</th>\n",
       "      <td>27875</td>\n",
       "      <td>Redemption: The Stan Tookie Williams Story (2004)</td>\n",
       "      <td>Crime|Documentary|Drama</td>\n",
       "    </tr>\n",
       "    <tr>\n",
       "      <th>4286</th>\n",
       "      <td>5718</td>\n",
       "      <td>Carbon Copy (1981)</td>\n",
       "      <td>Comedy</td>\n",
       "    </tr>\n",
       "    <tr>\n",
       "      <th>2361</th>\n",
       "      <td>2942</td>\n",
       "      <td>Flashdance (1983)</td>\n",
       "      <td>Drama|Romance</td>\n",
       "    </tr>\n",
       "    <tr>\n",
       "      <th>4871</th>\n",
       "      <td>6898</td>\n",
       "      <td>Sweet Sixteen (2002)</td>\n",
       "      <td>Drama</td>\n",
       "    </tr>\n",
       "    <tr>\n",
       "      <th>5366</th>\n",
       "      <td>8228</td>\n",
       "      <td>Maltese Falcon, The (a.k.a. Dangerous Female) ...</td>\n",
       "      <td>Mystery</td>\n",
       "    </tr>\n",
       "  </tbody>\n",
       "</table>\n",
       "</div>"
      ],
      "text/plain": [
       "      movieId                                              title  \\\n",
       "5974    27875  Redemption: The Stan Tookie Williams Story (2004)   \n",
       "4286     5718                                 Carbon Copy (1981)   \n",
       "2361     2942                                  Flashdance (1983)   \n",
       "4871     6898                               Sweet Sixteen (2002)   \n",
       "5366     8228  Maltese Falcon, The (a.k.a. Dangerous Female) ...   \n",
       "\n",
       "                       genres  \n",
       "5974  Crime|Documentary|Drama  \n",
       "4286                   Comedy  \n",
       "2361            Drama|Romance  \n",
       "4871                    Drama  \n",
       "5366                  Mystery  "
      ]
     },
     "execution_count": 4,
     "metadata": {},
     "output_type": "execute_result"
    }
   ],
   "source": [
    "df_films.sample(5)"
   ]
  },
  {
   "cell_type": "markdown",
   "metadata": {},
   "source": [
    "**Объединим датасеты**"
   ]
  },
  {
   "cell_type": "code",
   "execution_count": 30,
   "metadata": {},
   "outputs": [],
   "source": [
    "df_films_rating = df_films.merge(df_ratings, on=['movieId'])"
   ]
  },
  {
   "cell_type": "code",
   "execution_count": 31,
   "metadata": {},
   "outputs": [
    {
     "data": {
      "text/html": [
       "<div>\n",
       "<style scoped>\n",
       "    .dataframe tbody tr th:only-of-type {\n",
       "        vertical-align: middle;\n",
       "    }\n",
       "\n",
       "    .dataframe tbody tr th {\n",
       "        vertical-align: top;\n",
       "    }\n",
       "\n",
       "    .dataframe thead th {\n",
       "        text-align: right;\n",
       "    }\n",
       "</style>\n",
       "<table border=\"1\" class=\"dataframe\">\n",
       "  <thead>\n",
       "    <tr style=\"text-align: right;\">\n",
       "      <th></th>\n",
       "      <th>movieId</th>\n",
       "      <th>title</th>\n",
       "      <th>genres</th>\n",
       "      <th>userId</th>\n",
       "      <th>rating</th>\n",
       "      <th>timestamp</th>\n",
       "    </tr>\n",
       "  </thead>\n",
       "  <tbody>\n",
       "    <tr>\n",
       "      <th>42615</th>\n",
       "      <td>1952</td>\n",
       "      <td>Midnight Cowboy (1969)</td>\n",
       "      <td>Drama</td>\n",
       "      <td>30</td>\n",
       "      <td>4.0</td>\n",
       "      <td>948167081</td>\n",
       "    </tr>\n",
       "    <tr>\n",
       "      <th>50038</th>\n",
       "      <td>2407</td>\n",
       "      <td>Cocoon (1985)</td>\n",
       "      <td>Comedy|Sci-Fi</td>\n",
       "      <td>564</td>\n",
       "      <td>3.0</td>\n",
       "      <td>974833752</td>\n",
       "    </tr>\n",
       "    <tr>\n",
       "      <th>25740</th>\n",
       "      <td>1061</td>\n",
       "      <td>Sleepers (1996)</td>\n",
       "      <td>Thriller</td>\n",
       "      <td>665</td>\n",
       "      <td>3.0</td>\n",
       "      <td>995233350</td>\n",
       "    </tr>\n",
       "    <tr>\n",
       "      <th>38334</th>\n",
       "      <td>1591</td>\n",
       "      <td>Spawn (1997)</td>\n",
       "      <td>Action|Adventure|Sci-Fi|Thriller</td>\n",
       "      <td>73</td>\n",
       "      <td>3.0</td>\n",
       "      <td>1256028479</td>\n",
       "    </tr>\n",
       "    <tr>\n",
       "      <th>1982</th>\n",
       "      <td>34</td>\n",
       "      <td>Babe (1995)</td>\n",
       "      <td>Children|Drama</td>\n",
       "      <td>595</td>\n",
       "      <td>3.0</td>\n",
       "      <td>965077143</td>\n",
       "    </tr>\n",
       "  </tbody>\n",
       "</table>\n",
       "</div>"
      ],
      "text/plain": [
       "       movieId                   title                            genres  \\\n",
       "42615     1952  Midnight Cowboy (1969)                             Drama   \n",
       "50038     2407           Cocoon (1985)                     Comedy|Sci-Fi   \n",
       "25740     1061         Sleepers (1996)                          Thriller   \n",
       "38334     1591            Spawn (1997)  Action|Adventure|Sci-Fi|Thriller   \n",
       "1982        34             Babe (1995)                    Children|Drama   \n",
       "\n",
       "       userId  rating   timestamp  \n",
       "42615      30     4.0   948167081  \n",
       "50038     564     3.0   974833752  \n",
       "25740     665     3.0   995233350  \n",
       "38334      73     3.0  1256028479  \n",
       "1982      595     3.0   965077143  "
      ]
     },
     "execution_count": 31,
     "metadata": {},
     "output_type": "execute_result"
    }
   ],
   "source": [
    "df_films_rating.sample(5)"
   ]
  },
  {
   "cell_type": "markdown",
   "metadata": {},
   "source": [
    "**Функция для классификации рейтинга**"
   ]
  },
  {
   "cell_type": "code",
   "execution_count": 29,
   "metadata": {},
   "outputs": [],
   "source": [
    "def df_rate_classification(rating):\n",
    "    \"\"\"Функция классификации рейтинга\n",
    "\n",
    "    Args:\n",
    "        rating (float): значение рейтинга\n",
    "\n",
    "    Returns:\n",
    "        str: класс рейтинга\n",
    "    \"\"\"    \n",
    "        \n",
    "    match rating:\n",
    "        case rating if rating >= 4.5:\n",
    "            return 'High rate'\n",
    "        case rating if 2 < rating <= 4:\n",
    "            return 'Middle rate'\n",
    "        case rating if rating <= 2:\n",
    "            return 'Low rate'\n",
    "  "
   ]
  },
  {
   "cell_type": "markdown",
   "metadata": {},
   "source": [
    "**Применим функцию к столбцу rating**"
   ]
  },
  {
   "cell_type": "code",
   "execution_count": 32,
   "metadata": {},
   "outputs": [],
   "source": [
    "df_films_rating['Class'] = df_films_rating['rating'].apply(df_rate_classification)"
   ]
  },
  {
   "cell_type": "code",
   "execution_count": 33,
   "metadata": {},
   "outputs": [
    {
     "data": {
      "text/html": [
       "<div>\n",
       "<style scoped>\n",
       "    .dataframe tbody tr th:only-of-type {\n",
       "        vertical-align: middle;\n",
       "    }\n",
       "\n",
       "    .dataframe tbody tr th {\n",
       "        vertical-align: top;\n",
       "    }\n",
       "\n",
       "    .dataframe thead th {\n",
       "        text-align: right;\n",
       "    }\n",
       "</style>\n",
       "<table border=\"1\" class=\"dataframe\">\n",
       "  <thead>\n",
       "    <tr style=\"text-align: right;\">\n",
       "      <th></th>\n",
       "      <th>movieId</th>\n",
       "      <th>title</th>\n",
       "      <th>genres</th>\n",
       "      <th>userId</th>\n",
       "      <th>rating</th>\n",
       "      <th>timestamp</th>\n",
       "      <th>Class</th>\n",
       "    </tr>\n",
       "  </thead>\n",
       "  <tbody>\n",
       "    <tr>\n",
       "      <th>98493</th>\n",
       "      <td>109487</td>\n",
       "      <td>Interstellar (2014)</td>\n",
       "      <td>Sci-Fi|IMAX</td>\n",
       "      <td>149</td>\n",
       "      <td>4.0</td>\n",
       "      <td>1436922074</td>\n",
       "      <td>Middle rate</td>\n",
       "    </tr>\n",
       "    <tr>\n",
       "      <th>28199</th>\n",
       "      <td>1193</td>\n",
       "      <td>One Flew Over the Cuckoo's Nest (1975)</td>\n",
       "      <td>Drama</td>\n",
       "      <td>253</td>\n",
       "      <td>4.5</td>\n",
       "      <td>1215831247</td>\n",
       "      <td>High rate</td>\n",
       "    </tr>\n",
       "    <tr>\n",
       "      <th>98475</th>\n",
       "      <td>109374</td>\n",
       "      <td>Grand Budapest Hotel, The (2014)</td>\n",
       "      <td>Comedy|Drama</td>\n",
       "      <td>542</td>\n",
       "      <td>5.0</td>\n",
       "      <td>1424965254</td>\n",
       "      <td>High rate</td>\n",
       "    </tr>\n",
       "    <tr>\n",
       "      <th>99729</th>\n",
       "      <td>136864</td>\n",
       "      <td>Batman v Superman: Dawn of Justice (2016)</td>\n",
       "      <td>Action|Adventure|Fantasy|Sci-Fi</td>\n",
       "      <td>277</td>\n",
       "      <td>2.5</td>\n",
       "      <td>1463682554</td>\n",
       "      <td>Middle rate</td>\n",
       "    </tr>\n",
       "    <tr>\n",
       "      <th>69701</th>\n",
       "      <td>4292</td>\n",
       "      <td>Norma Rae (1979)</td>\n",
       "      <td>Drama</td>\n",
       "      <td>547</td>\n",
       "      <td>4.0</td>\n",
       "      <td>1021195429</td>\n",
       "      <td>Middle rate</td>\n",
       "    </tr>\n",
       "  </tbody>\n",
       "</table>\n",
       "</div>"
      ],
      "text/plain": [
       "       movieId                                      title  \\\n",
       "98493   109487                        Interstellar (2014)   \n",
       "28199     1193     One Flew Over the Cuckoo's Nest (1975)   \n",
       "98475   109374           Grand Budapest Hotel, The (2014)   \n",
       "99729   136864  Batman v Superman: Dawn of Justice (2016)   \n",
       "69701     4292                           Norma Rae (1979)   \n",
       "\n",
       "                                genres  userId  rating   timestamp  \\\n",
       "98493                      Sci-Fi|IMAX     149     4.0  1436922074   \n",
       "28199                            Drama     253     4.5  1215831247   \n",
       "98475                     Comedy|Drama     542     5.0  1424965254   \n",
       "99729  Action|Adventure|Fantasy|Sci-Fi     277     2.5  1463682554   \n",
       "69701                            Drama     547     4.0  1021195429   \n",
       "\n",
       "             Class  \n",
       "98493  Middle rate  \n",
       "28199    High rate  \n",
       "98475    High rate  \n",
       "99729  Middle rate  \n",
       "69701  Middle rate  "
      ]
     },
     "execution_count": 33,
     "metadata": {},
     "output_type": "execute_result"
    }
   ],
   "source": [
    "df_films_rating.sample(5)"
   ]
  }
 ],
 "metadata": {
  "kernelspec": {
   "display_name": "venv",
   "language": "python",
   "name": "python3"
  },
  "language_info": {
   "codemirror_mode": {
    "name": "ipython",
    "version": 3
   },
   "file_extension": ".py",
   "mimetype": "text/x-python",
   "name": "python",
   "nbconvert_exporter": "python",
   "pygments_lexer": "ipython3",
   "version": "3.12.3"
  }
 },
 "nbformat": 4,
 "nbformat_minor": 2
}
