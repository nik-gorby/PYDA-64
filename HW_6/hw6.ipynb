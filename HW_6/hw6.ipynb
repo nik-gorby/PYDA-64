{
 "cells": [
  {
   "cell_type": "code",
   "execution_count": 41,
   "metadata": {},
   "outputs": [],
   "source": [
    "# Необходимые импорты\n",
    "\n",
    "from datetime import datetime\n",
    "from datetime import timedelta"
   ]
  },
  {
   "cell_type": "markdown",
   "metadata": {},
   "source": [
    "### Задание 1\n",
    "Печатные газеты использовали свой формат дат для каждого выпуска. Для каждой газеты из списка напишите формат указанной даты для перевода в объект datetime:\n",
    "The Moscow Times — Wednesday, October 2, 2002\n",
    "The Guardian — Friday, 11.10.13\n",
    "Daily News — Thursday, 18 August 1977"
   ]
  },
  {
   "cell_type": "code",
   "execution_count": null,
   "metadata": {},
   "outputs": [
    {
     "name": "stdout",
     "output_type": "stream",
     "text": [
      "The Moscow Times 2002-10-02 00:00:00\n",
      "The Guardian 2013-10-11 00:00:00\n",
      "Daily News 1977-08-18 00:00:00\n"
     ]
    }
   ],
   "source": [
    "issue_date = {\n",
    "    'The Moscow Times': 'Wednesday, October 2, 2002',\n",
    "    'The Guardian': 'Friday, 11.10.13',\n",
    "    'Daily News': 'Thursday, 18 August 1977'\n",
    "}\n",
    "\n",
    "print('The Moscow Times', datetime.strptime(issue_date['The Moscow Times'],\n",
    "                                            '%A, %B %d, %Y'))\n",
    "print('The Guardian', datetime.strptime(issue_date['The Guardian'],\n",
    "                                        '%A, %d.%m.%y')) # при определении \n",
    "#положения в дате дня и месяца, исходим из того, что газета издается в Великобритании\n",
    "print('Daily News', datetime.strptime(issue_date['Daily News'],\n",
    "                                      '%A, %d %B %Y'))"
   ]
  },
  {
   "cell_type": "markdown",
   "metadata": {},
   "source": [
    "### Задание 2\n",
    "Дан поток дат в формате YYYY-MM-DD, в которых встречаются некорректные значения:\n",
    "stream = [‘2018-04-02’, ‘2018-02-29’, ‘2018-19-02’]\n",
    "\n",
    "Напишите функцию, которая проверяет эти даты на корректность. То есть для каждой даты возвращает True — дата корректна или False — некорректная."
   ]
  },
  {
   "cell_type": "code",
   "execution_count": 38,
   "metadata": {},
   "outputs": [
    {
     "name": "stdout",
     "output_type": "stream",
     "text": [
      "True\n",
      "False\n",
      "False\n"
     ]
    }
   ],
   "source": [
    "stream = ['2018-04-02', '2018-02-29', '2018-19-02']\n",
    "\n",
    "def check_date(arg: str) -> bool: \n",
    "    \"\"\"Функция проверки передаваемой даты на корректность. \n",
    "    Дата передается в формате YYYY-MM-DD\n",
    "\n",
    "    Args:\n",
    "        arg (str): строка даты\n",
    "\n",
    "    Returns:\n",
    "        bool: True, если дата корректная, иначе False\n",
    "    \"\"\"\n",
    "    try:\n",
    "        datetime.strptime(arg, '%Y-%m-%d')\n",
    "        return True\n",
    "    except Exception as e:\n",
    "        return False\n",
    "    \n",
    "for elem in stream:\n",
    "    print(check_date(elem))"
   ]
  },
  {
   "cell_type": "markdown",
   "metadata": {},
   "source": [
    "### Задание 3\n",
    "Напишите функцию date_range, которая возвращает список дат за период от start_date до end_date. Даты должны вводиться в формате YYYY-MM-DD. В случае неверного формата или при start_date > end_date должен возвращаться пустой список."
   ]
  },
  {
   "cell_type": "code",
   "execution_count": 81,
   "metadata": {},
   "outputs": [],
   "source": [
    "def date_range(start_date: str, end_date: str) -> list:\n",
    "    \"\"\"возвращает список дат за период от start_date до end_date.\n",
    "    если данные введены в неверном формате или дата начала больше даты\n",
    "    конца, возвращает пустой список\n",
    "\n",
    "    Args:\n",
    "        start_date (str): начальная дата в формате YYYY-MM-DD\n",
    "        end_date (str): конечная дата в формате YYYY-MM-DD\n",
    "\n",
    "    Returns:\n",
    "        list: список дат\n",
    "    \"\"\"\n",
    "    date_list = []\n",
    "    \n",
    "    # if not check_date(start_date) or not check_date(end_date):\n",
    "    #     return date_list\n",
    "    \n",
    "    # start_date = datetime.strptime(start_date, '%Y-%m-%d')\n",
    "    # end_date = datetime.strptime(end_date, '%Y-%m-%d')\n",
    "    \n",
    "    try:\n",
    "        start_date = datetime.strptime(start_date, '%Y-%m-%d')\n",
    "        end_date = datetime.strptime(end_date, '%Y-%m-%d')\n",
    "    except Exception as e:\n",
    "        return date_list\n",
    "    \n",
    "    if (start_date > end_date):\n",
    "        return date_list\n",
    "    \n",
    "    i = start_date\n",
    "    while i <= end_date:\n",
    "        date_list.append(i)\n",
    "        i += timedelta(days=1)\n",
    "    \n",
    "    return date_list\n",
    "    "
   ]
  },
  {
   "cell_type": "code",
   "execution_count": 78,
   "metadata": {},
   "outputs": [
    {
     "data": {
      "text/plain": [
       "[]"
      ]
     },
     "execution_count": 78,
     "metadata": {},
     "output_type": "execute_result"
    }
   ],
   "source": [
    "start_date = input('Введите начальную дату в формате YYYY-MM-DD: ')\n",
    "end_date = input('Введите конечную дату в формате YYYY-MM-DD: ')\n",
    "\n",
    "date_range(start_date, end_date)\n"
   ]
  },
  {
   "cell_type": "markdown",
   "metadata": {},
   "source": [
    "### Задание 4 \n",
    "Ваш коллега прислал код функции:\n",
    "\n",
    "DEFAULT_USER_COUNT = 3\n",
    "\n",
    "def delete_and_return_last_user(region, default_list=[‘A100’, ‘A101’, ‘A102’]):\n",
    "\"\"“\n",
    "Удаляет из списка default_list последнего пользователя\n",
    "и возвращает ID нового последнего пользователя.\n",
    "”\"\"\n",
    "element_to_delete = default_list[-1]\n",
    "default_list.remove(element_to_delete)\n",
    "\n",
    "1\n",
    "return default_list[DEFAULT_USER_COUNT-2]\n",
    "При однократном вызове этой функции всё работает корректно:\n",
    "delete_and_return_last_user(1)\n",
    "‘A101’\n",
    "\n",
    "Однако при повторном вызове получается ошибка IndexError: list index out of range.\n",
    "\n",
    "Задание:\n",
    "\n",
    "Что значит ошибка list index out of range?\n",
    "Почему при первом запуске функция работает корректно, а при втором — нет?"
   ]
  },
  {
   "cell_type": "code",
   "execution_count": null,
   "metadata": {},
   "outputs": [],
   "source": [
    "DEFAULT_USER_COUNT = 3\n",
    "\n",
    "def delete_and_return_last_user(region=1, default_list=['A100', 'A101', 'A102']):\n",
    "    \"\"\"\n",
    "    Удаляет из списка default_list последнего пользователя\n",
    "    и возвращает ID нового последнего пользователя.\n",
    "    \"\"\"\n",
    "    element_to_delete = default_list[-1]\n",
    "    default_list.remove(element_to_delete)\n",
    "\n",
    "    1\n",
    "    # return default_list[-1]\n",
    "    return default_list[DEFAULT_USER_COUNT-2]"
   ]
  },
  {
   "cell_type": "markdown",
   "metadata": {},
   "source": [
    "1. Что значит ошибка  ***list index out of range***?\n",
    "  \n",
    "  Данная ошибка означает попытку обращения к элементу списка с несуществующим индексом\n",
    "  \n",
    "2. Почему при первом запуске функция работает корректно, а при втором — нет?\n",
    "\n",
    "  При первом запуске функция возвращает элемент с вычисляемым индексом, равным **DEFAULT_USER_COUNT-2**, т.е. **1**, что указывает на элемент, который становится последним, после удаления последнего элемента из списка длиной 3 элемента. А при втором запуске, функция опять пытается вернуть элемент с индексом **1**, но такого элемента в списке уже нет, список состоит из одного элемента и его индекс - **0**. Чтобы подобная ошибка не возникала, следует возвращать просто последний элемент списка, т.е. **default_list[-1]**. Однако ошибка снова возникнет, когда список достигнет длины в один элемент, этот элемент будет удален и функция попытается вернуть элемент из пустого списка. Никаких элементов в списке нет, возникает ошибка, которую необходимо обработать для корректной работы."
   ]
  }
 ],
 "metadata": {
  "kernelspec": {
   "display_name": "venv",
   "language": "python",
   "name": "python3"
  },
  "language_info": {
   "codemirror_mode": {
    "name": "ipython",
    "version": 3
   },
   "file_extension": ".py",
   "mimetype": "text/x-python",
   "name": "python",
   "nbconvert_exporter": "python",
   "pygments_lexer": "ipython3",
   "version": "3.12.3"
  }
 },
 "nbformat": 4,
 "nbformat_minor": 2
}
