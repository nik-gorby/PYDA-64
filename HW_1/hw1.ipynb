{
 "cells": [
  {
   "cell_type": "markdown",
   "metadata": {},
   "source": [
    "# **Задание 1**\n",
    "\n",
    " \n",
    "## Даны 2 переменных, в которых хранятся строки произвольной длины: phrase_1 и phrase_2. Напишите код, который проверяет какая из этих строк длиннее.\n",
    "\n",
    "### **Примеры работы программы:**\n",
    "\n",
    "- phrase_1 = 'Насколько проще было бы писать программы, если бы не заказчики'\n",
    "- phrase_2 = '640Кб должно хватить для любых задач. Билл Гейтс (по легенде)'\n",
    "#### **Результат:** Фраза 1 длиннее фразы 2\n",
    "\n",
    "- phrase_1 = '640Кб должно хватить для любых задач. Билл Гейтс (по легенде)'\n",
    "- phrase_2 = 'Насколько проще было бы писать программы, если бы не заказчики'\n",
    "#### **Результат:** Фраза 2 длиннее фразы 1 \n",
    "\n",
    "- phrase_1 = 'Насколько проще было бы писать программы, если бы не заказчики'\n",
    "- phrase_2 = 'Насколько проще было бы писать программы, если бы не заказчики'\n",
    "#### **Результат:** Фразы равной длины"
   ]
  },
  {
   "cell_type": "code",
   "execution_count": null,
   "metadata": {},
   "outputs": [
    {
     "name": "stdout",
     "output_type": "stream",
     "text": [
      "Фраза 1 длиннее фразы 2\n"
     ]
    }
   ],
   "source": [
    "phrase_1 = 'Насколько проще было бы писать программы, если бы не заказчики'\n",
    "phrase_2 = '640Кб должно хватить для любых задач. Билл Гейтс (по легенде)'\n",
    "\n",
    "if len(phrase_1) > len(phrase_2):\n",
    "    print('Фраза 1 длиннее фразы 2')\n",
    "elif len(phrase_1) < len(phrase_2):\n",
    "    print('Фраза 2 длиннее фразы 1')\n",
    "else:\n",
    "    print('Фразы равной длины')"
   ]
  },
  {
   "cell_type": "markdown",
   "metadata": {},
   "source": [
    "# **Задание 2**\n",
    "## Дана переменная, в которой хранится число (год). Необходимо написать программу, которая выведет, является ли данный год високосным или обычным.\n",
    "\n",
    "### **Пример работы программы:** \n",
    "\n",
    "year = 2020\n",
    "#### **Результат:** Високосный год\n",
    "\n",
    "year = 2019 \n",
    "#### **Результат:** Обычный год"
   ]
  },
  {
   "cell_type": "code",
   "execution_count": null,
   "metadata": {},
   "outputs": [
    {
     "name": "stdout",
     "output_type": "stream",
     "text": [
      "2020 год високосный\n"
     ]
    }
   ],
   "source": [
    "# Вариант 1.\n",
    "\n",
    "import calendar\n",
    "\n",
    "year = int(input(\"Введите год: \"))\n",
    "\n",
    "print(f'{year} год високосный') if calendar.isleap(\n",
    "    year) else print(f'{year} год не високосный')"
   ]
  },
  {
   "cell_type": "code",
   "execution_count": null,
   "metadata": {},
   "outputs": [],
   "source": [
    "# Вариант 2.\n",
    "\n",
    "! pip install numpy"
   ]
  },
  {
   "cell_type": "code",
   "execution_count": null,
   "metadata": {},
   "outputs": [
    {
     "name": "stdout",
     "output_type": "stream",
     "text": [
      "Requirement already satisfied: numpy in /app/venv/lib/python3.12/site-packages (2.1.3)\n",
      "2025 год не високосный\n"
     ]
    }
   ],
   "source": [
    "import numpy as np\n",
    "\n",
    "year = int(input(\"Введите год: \"))\n",
    "\n",
    "difference = abs(np.datetime64(f'{year}-01-01') -\n",
    "                 np.datetime64(f'{year + 1}-01-01')).astype(int)\n",
    "\n",
    "print(f'{year} год високосный') if difference == 366 else print(\n",
    "    f'{year} год не високосный')"
   ]
  },
  {
   "cell_type": "code",
   "execution_count": null,
   "metadata": {},
   "outputs": [
    {
     "name": "stdout",
     "output_type": "stream",
     "text": [
      "2100 год не високосный\n"
     ]
    }
   ],
   "source": [
    "# Вариант 3.\n",
    "\n",
    "year = int(input(\"Введите год: \"))\n",
    "\n",
    "print(f'{year} год високосный') if (year % 4 == 0 and year % 100 != 0) or (\n",
    "    year % 400 == 0) else print(f'{year} год не високосный')"
   ]
  },
  {
   "cell_type": "markdown",
   "metadata": {},
   "source": [
    "# **Задание 3**\n",
    "## Необходимо написать программу, которая будет запрашивать у пользователя месяц и дату рождения и выводить соответствующий знак зодиака.\n",
    "\n",
    "### **Пример работы программы:**\n",
    "Введите день:\n",
    "30\n",
    "\n",
    "Введите месяц:\n",
    "Август\n",
    "#### **Результат:** Ваш знак зодиака: Дева\n",
    "\n",
    "Введите день:\n",
    "29\n",
    "\n",
    "Введите месяц:\n",
    "Октябрь\n",
    "#### **Результат:** Ваш знак зодиака: Скорпион"
   ]
  },
  {
   "cell_type": "code",
   "execution_count": null,
   "metadata": {},
   "outputs": [
    {
     "ename": "SyntaxError",
     "evalue": "invalid syntax (1485105692.py, line 6)",
     "output_type": "error",
     "traceback": [
      "\u001b[0;36m  Cell \u001b[0;32mIn[43], line 6\u001b[0;36m\u001b[0m\n\u001b[0;31m    print('Ваш знак зодиака: Козерог') if b_day < 21 else\u001b[0m\n\u001b[0m                                                          ^\u001b[0m\n\u001b[0;31mSyntaxError\u001b[0m\u001b[0;31m:\u001b[0m invalid syntax\n"
     ]
    }
   ],
   "source": [
    "b_day = int(input('Введите день:'))\n",
    "b_month = input('Введите месяц:').lower()\n",
    "\n",
    "match b_month:\n",
    "    case \"январь\":\n",
    "        print('Ваш знак зодиака: Козерог') if b_day < 21 else print(\n",
    "            'Ваш знак зодиака: Водолей')\n",
    "    case \"февраль\":\n",
    "        print('Ваш знак зодиака: Водолей') if b_day < 20 else print(\n",
    "            'Ваш знак зодиака: Рыбы')\n",
    "    case \"март\":\n",
    "        print('Ваш знак зодиака: Рыбы') if b_day < 21 else print(\n",
    "            'Ваш знак зодиака: Овен')\n",
    "    case \"апрель\":\n",
    "        print('Ваш знак зодиака: Овен') if b_day < 21 else print(\n",
    "            'Ваш знак зодиака: Телец')\n",
    "    case \"май\":\n",
    "        print('Ваш знак зодиака: Телец') if b_day < 22 else print(\n",
    "            'Ваш знак зодиака: Близнецы')\n",
    "    case \"июнь\":\n",
    "        print('Ваш знак зодиака: Близнецы') if b_day < 22 else print(\n",
    "            'Ваш знак зодиака: Рак')\n",
    "    case \"июль\":\n",
    "        print('Ваш знак зодиака: Рак') if b_day < 23 else print(\n",
    "            'Ваш знак зодиака: Лев')\n",
    "    case \"август\":\n",
    "        print('Ваш знак зодиака: Лев') if b_day < 22 else print(\n",
    "            'Ваш знак зодиака: Дева')\n",
    "    case \"сентябрь\":\n",
    "        print('Ваш знак зодиака: Дева') if b_day < 24 else print(\n",
    "            'Ваш знак зодиака: Весы')\n",
    "    case \"октябрь\":\n",
    "        print('Ваш знак зодиака: Весы') if b_day < 24 else print(\n",
    "            'Ваш знак зодиака: Скорпион')\n",
    "    case \"ноябрь\":\n",
    "        print('Ваш знак зодиака: Скорпион') if b_day < 23 else print(\n",
    "            'Ваш знак зодиака: Стрелец')\n",
    "    case \"декабрь\":\n",
    "        print('Ваш знак зодиака: Стрелец') if b_day < 23 else print(\n",
    "            'Ваш знак зодиака: Козерог')\n",
    "    case _:\n",
    "        print('Неизвестный месяц')\n",
    "\n",
    "print(f\"{b_day}, {b_month}\")"
   ]
  },
  {
   "cell_type": "markdown",
   "metadata": {},
   "source": [
    "# **Задание 4**\n",
    "## Вам нужно написать программу для подбора упаковок по размерам товара. Размеры (ширина, длина, высота) хранятся в переменных (в сантиметрах):\n",
    "\n",
    "Используйте следующие правила:\n",
    "\n",
    "- если каждое из трех измерений менее или равно 15 сантиметрам, то выведите на экран \"Коробка №1\";\n",
    "- если хотя бы одно из измерений больше 2 метров, то выводите \"Упаковка для лыж\";\n",
    "- если хотя бы одно из измерений больше 15 сантиметров, но менее 50 сантиметров, то выводите \"Коробка №2\";\n",
    "во всех остальных случаях выводите \"Коробка №3\".\n",
    "### **Пример работы программы:**\n",
    "\n",
    "width = 15\n",
    "length = 55\n",
    "height = 15\n",
    "#### **Результат:** Коробка №3\n",
    "\n",
    "width = 45\n",
    "length = 205\n",
    "height = 45\n",
    "#### **Результат:** Упаковка для лыж"
   ]
  },
  {
   "cell_type": "code",
   "execution_count": 15,
   "metadata": {},
   "outputs": [
    {
     "name": "stdout",
     "output_type": "stream",
     "text": [
      "15x16x15 - Коробка №2\n"
     ]
    }
   ],
   "source": [
    "width = 15\n",
    "length = 16\n",
    "height = 15\n",
    "\n",
    "if width <= 15 and length <= 15 and height <= 15:\n",
    "    print(f'{width}x{length}x{height} - Коробка №1')\n",
    "elif width > 200 or length > 200 or height > 200:\n",
    "    print(f'{width}x{length}x{height} - Упаковка для лыж')\n",
    "elif 15 < width < 50 or 15 < length < 50 or 15 < height < 50:\n",
    "    print(f'{width}x{length}x{height} - Коробка №2')\n",
    "else:\n",
    "    print(f'{width}x{length}x{height} - Коробка №3')"
   ]
  },
  {
   "cell_type": "markdown",
   "metadata": {},
   "source": [
    "# **Задание 5**\n",
    "## Дана переменная, в которой хранится шестизначное число (номер проездного билета). Напишите программу, которая будет определять, является ли данный билет \"счастливым\". Билет считается счастливым, если сумма первых трех цифр совпадает с суммой последних трех цифр номера.\n",
    "\n",
    "### **Примеры работы программы:**\n",
    "\n",
    "number = 123456\n",
    "#### **Результат:** Несчастливый билет\n",
    "\n",
    "number = 123321\n",
    "#### **Результат:** Счастливый билет"
   ]
  },
  {
   "cell_type": "code",
   "execution_count": 44,
   "metadata": {},
   "outputs": [
    {
     "name": "stdout",
     "output_type": "stream",
     "text": [
      "Билет 666667 - не счастливый!\n"
     ]
    }
   ],
   "source": [
    "number = 666667\n",
    "\n",
    "num_list = list(map(int, list(str(number))))\n",
    "\n",
    "left_part = sum(num_list[i] for i in range(0, 3))\n",
    "right_part = sum(num_list[i] for i in range(3, 6))\n",
    "\n",
    "print(f'Билет {number} - счастливый!') if left_part == right_part else print(\n",
    "    f'Билет {number} - не счастливый!')"
   ]
  },
  {
   "cell_type": "markdown",
   "metadata": {},
   "source": [
    "# **Задание 6**\n",
    "## Напишите программу, которая сможет вычислять площади трех фигур (круг, треугольник и прямоугольник). Тип фигуры запрашиваем через пользовательский ввод, после чего делаем запрос характеристик фигуры:\n",
    "\n",
    "- если пользователь выбрал круг, запрашиваем его радиус,\n",
    "- если треугольник – длины трех его сторон;\n",
    "- если прямоугольник – длины двух его сторон.\n",
    "\n",
    "\n",
    "### **Пример работы программы:**\n",
    "\n",
    "Введите тип фигуры:\n",
    "Круг\n",
    "\n",
    "Введите радиус круга:\n",
    "10\n",
    "#### **Результат:** Площадь круга: 314.16\n",
    "\n",
    "Введите тип фигуры:\n",
    "Треугольник\n",
    "\n",
    "Введите длину стороны A:\n",
    "2\n",
    "\n",
    "Введите длину стороны B:\n",
    "2\n",
    "\n",
    "Введите длину стороны C:\n",
    "3\n",
    "#### **Результат:** Площадь треугольника: 1.98"
   ]
  },
  {
   "cell_type": "code",
   "execution_count": null,
   "metadata": {},
   "outputs": [
    {
     "name": "stdout",
     "output_type": "stream",
     "text": [
      "Неизвестная фигура!\n"
     ]
    }
   ],
   "source": [
    "import math\n",
    "\n",
    "fig_type = input('Введите тип фигуры:').lower()\n",
    "\n",
    "match fig_type:\n",
    "    case \"треугольник\":\n",
    "        a_side = int(input('Введите длину стороны A'))\n",
    "        b_side = int(input('Введите длину стороны B'))\n",
    "        c_side = int(input('Введите длину стороны C'))\n",
    "        half_perimeter = (a_side + b_side + c_side) / 2\n",
    "        area = math.sqrt(half_perimeter * (half_perimeter - a_side)\n",
    "                         * (half_perimeter - b_side) * (half_perimeter - c_side))\n",
    "        print(f'Площадь треугольника: {round(area, 2)}')\n",
    "    case \"круг\":\n",
    "        radius = int(input('Введите радиус круга'))\n",
    "        area = math.pi * radius ** 2\n",
    "        print(f'Площадь круга: {round(area, 2)}')\n",
    "    case \"прямоугольник\":\n",
    "        a_side = int(input('Введите длину стороны A'))\n",
    "        b_side = int(input('Введите длину стороны B'))\n",
    "        area = a_side * b_side\n",
    "        print(f'Площадь прямоугольника: {round(area, 2)}')\n",
    "    case _:\n",
    "        print('Неизвестная фигура!')"
   ]
  }
 ],
 "metadata": {
  "kernelspec": {
   "display_name": "venv",
   "language": "python",
   "name": "python3"
  },
  "language_info": {
   "codemirror_mode": {
    "name": "ipython",
    "version": 3
   },
   "file_extension": ".py",
   "mimetype": "text/x-python",
   "name": "python",
   "nbconvert_exporter": "python",
   "pygments_lexer": "ipython3",
   "version": "3.12.3"
  }
 },
 "nbformat": 4,
 "nbformat_minor": 2
}
