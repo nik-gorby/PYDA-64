{
 "cells": [
  {
   "cell_type": "markdown",
   "metadata": {},
   "source": [
    "# **Задание 1**\n",
    "\n",
    " \n",
    "## Даны 2 переменных, в которых хранятся строки произвольной длины: phrase_1 и phrase_2. Напишите код, который проверяет какая из этих строк длиннее.\n",
    "\n",
    "### **Примеры работы программы:**\n",
    "\n",
    "- phrase_1 = 'Насколько проще было бы писать программы, если бы не заказчики'\n",
    "- phrase_2 = '640Кб должно хватить для любых задач. Билл Гейтс (по легенде)'\n",
    "#### **Результат:** Фраза 1 длиннее фразы 2\n",
    "\n",
    "- phrase_1 = '640Кб должно хватить для любых задач. Билл Гейтс (по легенде)'\n",
    "- phrase_2 = 'Насколько проще было бы писать программы, если бы не заказчики'\n",
    "#### **Результат:** Фраза 2 длиннее фразы 1 \n",
    "\n",
    "- phrase_1 = 'Насколько проще было бы писать программы, если бы не заказчики'\n",
    "- phrase_2 = 'Насколько проще было бы писать программы, если бы не заказчики'\n",
    "#### **Результат:** Фразы равной длины"
   ]
  },
  {
   "cell_type": "code",
   "execution_count": 1,
   "metadata": {},
   "outputs": [
    {
     "name": "stdout",
     "output_type": "stream",
     "text": [
      "Фраза 1 длиннее фразы 2\n"
     ]
    }
   ],
   "source": [
    "phrase_1 = 'Насколько проще было бы писать программы, если бы не заказчики'\n",
    "phrase_2 = '640Кб должно хватить для любых задач. Билл Гейтс (по легенде)'\n",
    "\n",
    "if len(phrase_1) > len(phrase_2):\n",
    "    print('Фраза 1 длиннее фразы 2')\n",
    "elif len(phrase_1) < len(phrase_2):\n",
    "    print('Фраза 2 длиннее фразы 1')\n",
    "else:\n",
    "    print('Фразы равной длины')"
   ]
  },
  {
   "cell_type": "markdown",
   "metadata": {},
   "source": [
    "# **Задание 2**\n",
    "## Дана переменная, в которой хранится число (год). Необходимо написать программу, которая выведет, является ли данный год високосным или обычным.\n",
    "\n",
    "### **Пример работы программы:** \n",
    "\n",
    "year = 2020\n",
    "#### **Результат:** Високосный год\n",
    "\n",
    "year = 2019 \n",
    "#### **Результат:** Обычный год"
   ]
  },
  {
   "cell_type": "code",
   "execution_count": null,
   "metadata": {},
   "outputs": [
    {
     "name": "stdout",
     "output_type": "stream",
     "text": [
      "2020 год високосный\n"
     ]
    }
   ],
   "source": [
    "# Вариант 1.\n",
    "\n",
    "import calendar\n",
    "\n",
    "year = int(input(\"Введите год: \"))\n",
    "\n",
    "print(f'{year} год високосный') if calendar.isleap(year) else print(f'{year} год не високосный')"
   ]
  },
  {
   "cell_type": "code",
   "execution_count": null,
   "metadata": {},
   "outputs": [],
   "source": [
    "# Вариант 2.\n",
    "\n",
    "! pip install numpy"
   ]
  },
  {
   "cell_type": "code",
   "execution_count": null,
   "metadata": {},
   "outputs": [
    {
     "name": "stdout",
     "output_type": "stream",
     "text": [
      "Requirement already satisfied: numpy in /app/venv/lib/python3.12/site-packages (2.1.3)\n",
      "2025 год не високосный\n"
     ]
    }
   ],
   "source": [
    "import numpy as np\n",
    "\n",
    "year = int(input(\"Введите год: \"))\n",
    "\n",
    "difference = abs(np.datetime64(f'{year}-01-01') - np.datetime64(f'{year + 1}-01-01')).astype(int)\n",
    "\n",
    "print(f'{year} год високосный') if difference == 366 else print(f'{year} год не високосный')"
   ]
  },
  {
   "cell_type": "code",
   "execution_count": 17,
   "metadata": {},
   "outputs": [
    {
     "name": "stdout",
     "output_type": "stream",
     "text": [
      "2100 год не високосный\n"
     ]
    }
   ],
   "source": [
    "# Вариант 3.\n",
    "\n",
    "year = int(input(\"Введите год: \"))\n",
    "\n",
    "print(f'{year} год високосный') if (year % 4 == 0 and year % 100 != 0) or (year % 400 == 0) else print(f'{year} год не високосный')"
   ]
  },
  {
   "cell_type": "markdown",
   "metadata": {},
   "source": [
    "# **Задание 3**\n",
    "## Необходимо написать программу, которая будет запрашивать у пользователя месяц и дату рождения и выводить соответствующий знак зодиака.\n",
    "\n",
    "### **Пример работы программы:**\n",
    "Введите день:\n",
    "30\n",
    "\n",
    "Введите месяц:\n",
    "Август\n",
    "#### **Результат:** Ваш знак зодиака: Дева\n",
    "\n",
    "Введите день:\n",
    "29\n",
    "\n",
    "Введите месяц:\n",
    "Октябрь\n",
    "#### **Результат:** Ваш знак зодиака: Скорпион"
   ]
  },
  {
   "cell_type": "code",
   "execution_count": 9,
   "metadata": {},
   "outputs": [
    {
     "name": "stdout",
     "output_type": "stream",
     "text": [
      "Ваш знак зодиака: Козерог\n",
      "30, декабрь\n"
     ]
    }
   ],
   "source": [
    "b_day = int(input('Введите день:'))\n",
    "b_month = input('Введите месяц:').lower()\n",
    "\n",
    "match b_month:\n",
    "    case \"январь\":\n",
    "        print('Ваш знак зодиака: Козерог') if b_day < 21 else print('Ваш знак зодиака: Водолей')\n",
    "    case \"февраль\":\n",
    "        print('Ваш знак зодиака: Водолей') if b_day < 20 else print('Ваш знак зодиака: Рыбы')\n",
    "    case \"март\":\n",
    "        print('Ваш знак зодиака: Рыбы') if b_day < 21 else print('Ваш знак зодиака: Овен')\n",
    "    case \"апрель\":\n",
    "        print('Ваш знак зодиака: Овен') if b_day < 21 else print('Ваш знак зодиака: Телец')\n",
    "    case \"май\":\n",
    "        print('Ваш знак зодиака: Телец') if b_day < 22 else print('Ваш знак зодиака: Близнецы')\n",
    "    case \"июнь\":\n",
    "        print('Ваш знак зодиака: Близнецы') if b_day < 22 else print('Ваш знак зодиака: Рак')\n",
    "    case \"июль\":\n",
    "        print('Ваш знак зодиака: Рак') if b_day < 23 else print('Ваш знак зодиака: Лев')\n",
    "    case \"август\":\n",
    "        print('Ваш знак зодиака: Лев') if b_day < 22 else print('Ваш знак зодиака: Дева')\n",
    "    case \"сентябрь\":\n",
    "        print('Ваш знак зодиака: Дева') if b_day < 24 else print('Ваш знак зодиака: Весы')\n",
    "    case \"октябрь\":\n",
    "        print('Ваш знак зодиака: Весы') if b_day < 24 else print('Ваш знак зодиака: Скорпион')\n",
    "    case \"ноябрь\":\n",
    "        print('Ваш знак зодиака: Скорпион') if b_day < 23 else print('Ваш знак зодиака: Стрелец')\n",
    "    case \"декабрь\":\n",
    "        print('Ваш знак зодиака: Стрелец') if b_day < 23 else print('Ваш знак зодиака: Козерог')\n",
    "    case _:\n",
    "        print('Неизвестный месяц')\n",
    "\n",
    "print(f\"{b_day}, {b_month}\")"
   ]
  }
 ],
 "metadata": {
  "kernelspec": {
   "display_name": "venv",
   "language": "python",
   "name": "python3"
  },
  "language_info": {
   "codemirror_mode": {
    "name": "ipython",
    "version": 3
   },
   "file_extension": ".py",
   "mimetype": "text/x-python",
   "name": "python",
   "nbconvert_exporter": "python",
   "pygments_lexer": "ipython3",
   "version": "3.12.3"
  }
 },
 "nbformat": 4,
 "nbformat_minor": 2
}
