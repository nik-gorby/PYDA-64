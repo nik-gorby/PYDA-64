{
 "cells": [
  {
   "cell_type": "markdown",
   "metadata": {},
   "source": [
    "Необходимые импорты"
   ]
  },
  {
   "cell_type": "code",
   "execution_count": 2,
   "metadata": {},
   "outputs": [],
   "source": [
    "import requests\n",
    "from bs4 import BeautifulSoup\n",
    "import time"
   ]
  },
  {
   "cell_type": "code",
   "execution_count": 6,
   "metadata": {},
   "outputs": [
    {
     "name": "stdout",
     "output_type": "stream",
     "text": [
      "50\n",
      "50\n",
      "13\n",
      "3\n"
     ]
    }
   ],
   "source": [
    "url = 'https://habr.com/ru/search/'\n",
    "\n",
    "query_list = ['python', 'анализ данных', 'deepseek']\n",
    "\n",
    "def get_posts(url, query_list):\n",
    "    query_result_list = []\n",
    "    for query in query_list:\n",
    "        params = {\n",
    "            'q': query,\n",
    "            'target_types': 'posts',\n",
    "            'order': 'relevance'\n",
    "        }\n",
    "\n",
    "        res = requests.get(url, params)\n",
    "        time.sleep(0.2)\n",
    "        soup = BeautifulSoup(res.text)\n",
    "        query_result_list.append(soup)\n",
    "\n",
    "        # Находим тег верхнего уровня\n",
    "        top_level_tag = soup.find('div', class_='tm-pagination__pages')\n",
    "\n",
    "        # Находим все вложенные теги и берем последний\n",
    "        nested_tags = top_level_tag.find_all('div', class_='tm-pagination__page-group')\n",
    "        last_nested_tag = nested_tags[-1] if nested_tags else None\n",
    "        last_page = last_nested_tag.find_all('a', class_='tm-pagination__page')[-1].text\n",
    "\n",
    "        print(last_page)\n",
    "    return query_result_list\n",
    "\n",
    "print(len(get_posts(url, query_list)))"
   ]
  }
 ],
 "metadata": {
  "kernelspec": {
   "display_name": "venv",
   "language": "python",
   "name": "python3"
  },
  "language_info": {
   "codemirror_mode": {
    "name": "ipython",
    "version": 3
   },
   "file_extension": ".py",
   "mimetype": "text/x-python",
   "name": "python",
   "nbconvert_exporter": "python",
   "pygments_lexer": "ipython3",
   "version": "3.12.3"
  }
 },
 "nbformat": 4,
 "nbformat_minor": 2
}
