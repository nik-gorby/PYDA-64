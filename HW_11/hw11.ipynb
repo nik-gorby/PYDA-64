{
 "cells": [
  {
   "cell_type": "markdown",
   "metadata": {},
   "source": [
    "Необходимые импорты"
   ]
  },
  {
   "cell_type": "code",
   "execution_count": 2,
   "metadata": {},
   "outputs": [],
   "source": [
    "import requests\n",
    "from bs4 import BeautifulSoup\n",
    "import time"
   ]
  },
  {
   "cell_type": "code",
   "execution_count": 9,
   "metadata": {},
   "outputs": [
    {
     "name": "stdout",
     "output_type": "stream",
     "text": [
      "20\n",
      "20\n",
      "20\n"
     ]
    }
   ],
   "source": [
    "url = 'https://habr.com/ru/search/'\n",
    "\n",
    "keyword_list = ['python', 'анализ данных', 'deepseek']\n",
    "\n",
    "\n",
    "def get_queries(url, query_list):\n",
    "    query_result_list = []\n",
    "    for query in query_list:\n",
    "        params = {\n",
    "            'q': query,\n",
    "            'target_types': 'posts',\n",
    "            'order': 'relevance'\n",
    "        }\n",
    "\n",
    "        res = requests.get(url, params)\n",
    "        time.sleep(0.2)\n",
    "        soup = BeautifulSoup(res.text)\n",
    "        query_result_list.append(soup)\n",
    "\n",
    "        # top_level_tag = soup.find('div', class_='tm-pagination__pages')\n",
    "\n",
    "        # nested_tags = top_level_tag.find_all(\n",
    "        #     'div', class_='tm-pagination__page-group')\n",
    "        # last_nested_tag = nested_tags[-1] if nested_tags else None\n",
    "        # last_page = last_nested_tag.find_all(\n",
    "        #     'a', class_='tm-pagination__page')[-1].text\n",
    "\n",
    "        # print(last_page)\n",
    "    return query_result_list\n",
    "\n",
    "def get_query_result(query):\n",
    "    article_list = query.find_all('article', class_='tm-articles-list__item')\n",
    "    return article_list\n",
    "\n",
    "query_list = get_queries(url, keyword_list)\n",
    "\n",
    "for item in query_list:\n",
    "    print(len(get_query_result(item)))\n",
    "    \n",
    "\n"
   ]
  }
 ],
 "metadata": {
  "kernelspec": {
   "display_name": "venv",
   "language": "python",
   "name": "python3"
  },
  "language_info": {
   "codemirror_mode": {
    "name": "ipython",
    "version": 3
   },
   "file_extension": ".py",
   "mimetype": "text/x-python",
   "name": "python",
   "nbconvert_exporter": "python",
   "pygments_lexer": "ipython3",
   "version": "3.12.3"
  }
 },
 "nbformat": 4,
 "nbformat_minor": 2
}
