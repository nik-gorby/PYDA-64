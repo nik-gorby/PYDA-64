{
  "nbformat": 4,
  "nbformat_minor": 0,
  "metadata": {
    "colab": {
      "provenance": []
    },
    "kernelspec": {
      "name": "python3",
      "display_name": "Python 3"
    },
    "language_info": {
      "name": "python"
    }
  },
  "cells": [
    {
      "cell_type": "markdown",
      "metadata": {
        "id": "edQI-m-cCgpV"
      },
      "source": [
        "# Основы Python\n",
        "\n",
        "**Булыгин Олег**\n",
        "* [Я в LinkedIn](https://www.linkedin.com/in/obulygin/)  \n",
        "* [Мой канал в ТГ по Python](https://t.me/pythontalk_ru)\n",
        "* [Чат канала](https://t.me/pythontalk_chat)\n",
        "* [Блог в Телетайпе](https://teletype.in/@pythontalk)\n",
        "\n",
        "Ссылочки в ноутбуке ведут на полезные доп. материалы, обязательно всё изучайте :)\n"
      ]
    },
    {
      "cell_type": "markdown",
      "metadata": {
        "id": "yeFs_dLk5YJW"
      },
      "source": [
        "## PEP\n",
        "\n",
        "PEP (python enhanced proposal — заявки на улучшение языка python). Это технические документы, в которых предлагаются новые возможности, улучшения или изменения в языке Python. PEP являются основным механизмом для предложения новых функций, сбора обратной связи от сообщества на предложения и документирования дизайна, который был принят в Python."
      ]
    },
    {
      "cell_type": "markdown",
      "metadata": {
        "id": "hQ_c5hAl5eNt"
      },
      "source": [
        "### PEP20 – Zen of Python\n",
        "\n",
        "Python придерживается философии, которую сформулировал Тим Петерс в 19 принципах. Её текст выдаётся интерпретатором Python по команде `import this`."
      ]
    },
    {
      "cell_type": "code",
      "metadata": {
        "id": "ANmgIu_25FK9",
        "colab": {
          "base_uri": "https://localhost:8080/"
        },
        "outputId": "92b6b6c9-0067-4f4c-f7a7-3382cb8de59d"
      },
      "source": [
        "import this"
      ],
      "execution_count": null,
      "outputs": [
        {
          "output_type": "stream",
          "name": "stdout",
          "text": [
            "The Zen of Python, by Tim Peters\n",
            "\n",
            "Beautiful is better than ugly.\n",
            "Explicit is better than implicit.\n",
            "Simple is better than complex.\n",
            "Complex is better than complicated.\n",
            "Flat is better than nested.\n",
            "Sparse is better than dense.\n",
            "Readability counts.\n",
            "Special cases aren't special enough to break the rules.\n",
            "Although practicality beats purity.\n",
            "Errors should never pass silently.\n",
            "Unless explicitly silenced.\n",
            "In the face of ambiguity, refuse the temptation to guess.\n",
            "There should be one-- and preferably only one --obvious way to do it.\n",
            "Although that way may not be obvious at first unless you're Dutch.\n",
            "Now is better than never.\n",
            "Although never is often better than *right* now.\n",
            "If the implementation is hard to explain, it's a bad idea.\n",
            "If the implementation is easy to explain, it may be a good idea.\n",
            "Namespaces are one honking great idea -- let's do more of those!\n"
          ]
        }
      ]
    },
    {
      "cell_type": "markdown",
      "metadata": {
        "id": "9G-RZWKR5t71"
      },
      "source": [
        "### PEP8\n",
        "\n",
        "PEP8 – соглашение о том, как писать код для языка python.\n",
        "Ключевая идея такова: код читается намного больше раз, чем пишется. Собственно, рекомендации о стиле написания кода направлены на то, чтобы улучшить читаемость кода и сделать его согласованным между большим числом проектов. В идеале, весь код будет написан в едином стиле, и любой сможет легко его прочесть.\n",
        "\n",
        "[Здесь](https://pythonworld.ru/osnovy/pep-8-rukovodstvo-po-napisaniyu-koda-na-python.html) есть перевод на русский.\n",
        "\n"
      ]
    },
    {
      "cell_type": "markdown",
      "source": [
        "## Дополнительная информация об [операторах присваивания](https://t.me/pythontalk_ru/2400)"
      ],
      "metadata": {
        "id": "jTSs3_pPQY3d"
      }
    },
    {
      "cell_type": "markdown",
      "source": [
        "### Сокращённая запись операторов присваивания"
      ],
      "metadata": {
        "id": "pImob1B0YwSt"
      }
    },
    {
      "cell_type": "code",
      "source": [
        "x = 2"
      ],
      "metadata": {
        "id": "nSHPr9DOQX9f"
      },
      "execution_count": null,
      "outputs": []
    },
    {
      "cell_type": "code",
      "source": [
        "# x = x + 1\n",
        "x += 1\n",
        "print(x)\n",
        "\n",
        "# x = x - 1\n",
        "x -= 1\n",
        "print(x)\n",
        "\n",
        "# x = x * 2\n",
        "x *= 2\n",
        "print(x)\n",
        "\n",
        "# x = x / 2\n",
        "x /= 2\n",
        "print(x)"
      ],
      "metadata": {
        "id": "PpbisCtMT-Bp",
        "colab": {
          "base_uri": "https://localhost:8080/"
        },
        "outputId": "a7514553-0faf-4a9a-f934-ed623b71f363"
      },
      "execution_count": null,
      "outputs": [
        {
          "output_type": "stream",
          "name": "stdout",
          "text": [
            "3\n",
            "2\n",
            "4\n",
            "2.0\n"
          ]
        }
      ]
    },
    {
      "cell_type": "markdown",
      "metadata": {
        "id": "lU7i_wOgRSHm"
      },
      "source": [
        "\n",
        "### Множественное присваивание\n",
        "\n",
        "В Python существует множественное присваивание, которое позволяет присваивать значения нескольким переменным одновременно. При множественном присваивании порядок присваивания формируется слева направо. Количество значений и количество переменных справа и слева от оператора присваивания должно совпадать."
      ]
    },
    {
      "cell_type": "code",
      "source": [
        "name = \"John\"\n",
        "pro = \"Data Scientist\"\n",
        "salary = 100000"
      ],
      "metadata": {
        "id": "lPFRVkh9mTYi"
      },
      "execution_count": null,
      "outputs": []
    },
    {
      "cell_type": "code",
      "metadata": {
        "id": "P6bCFVfmRWGy",
        "colab": {
          "base_uri": "https://localhost:8080/"
        },
        "outputId": "90761730-e96e-4009-c3c9-8dfd14fad8fe"
      },
      "source": [
        "name, pro, salary = \"John\", \"Data Scientist\", 100000\n",
        "print(name)\n",
        "print(pro)\n",
        "print(salary)"
      ],
      "execution_count": null,
      "outputs": [
        {
          "output_type": "stream",
          "name": "stdout",
          "text": [
            "John\n",
            "Data Scientist\n",
            "100000\n"
          ]
        }
      ]
    },
    {
      "cell_type": "markdown",
      "metadata": {
        "id": "erwQla1f2Q1s"
      },
      "source": [
        "Благодаря множественному присваиванию в Python легко решается задача замены переменных местами.\n",
        "\n",
        "В других языках эта задача решается через третью переменную."
      ]
    },
    {
      "cell_type": "code",
      "metadata": {
        "id": "nNGT-dkt2Q1s",
        "colab": {
          "base_uri": "https://localhost:8080/"
        },
        "outputId": "d2cd1604-7449-454d-a931-5c6fc4404a4a"
      },
      "source": [
        "answer = 42\n",
        "code = 4815162342\n",
        "\n",
        "c = answer\n",
        "\n",
        "answer = code\n",
        "code = c\n",
        "\n",
        "print(answer, code)"
      ],
      "execution_count": null,
      "outputs": [
        {
          "output_type": "stream",
          "name": "stdout",
          "text": [
            "4815162342 42\n"
          ]
        }
      ]
    },
    {
      "cell_type": "markdown",
      "metadata": {
        "id": "Nva22H5j2Q1t"
      },
      "source": [
        "А в Python можно так:"
      ]
    },
    {
      "cell_type": "code",
      "metadata": {
        "id": "qMqqa8I82Q1t",
        "colab": {
          "base_uri": "https://localhost:8080/"
        },
        "outputId": "8fe3db47-6c3c-473c-fb77-7e42ce58fcec"
      },
      "source": [
        "answer, code = code, answer\n",
        "print(answer, code)"
      ],
      "execution_count": null,
      "outputs": [
        {
          "output_type": "stream",
          "name": "stdout",
          "text": [
            "42 4815162342\n"
          ]
        }
      ]
    },
    {
      "cell_type": "markdown",
      "source": [
        "## Проблема точности округления в Python\n",
        "\n",
        "Проблема точности округления в Python, как и во многих других языках программирования, связана с представлением вещественных чисел в компьютерной арифметике.\n",
        "\n",
        "Вещественные числа в Python представлены в формате двоичной десятичной дроби, что может привести к неточностям при округлении. Это происходит потому, что некоторые десятичные дроби не могут быть точно представлены как двоичные дроби."
      ],
      "metadata": {
        "id": "kw_ODx9eycPy"
      }
    },
    {
      "cell_type": "code",
      "source": [
        "print(0.15 + 0.15 == 0.3)"
      ],
      "metadata": {
        "colab": {
          "base_uri": "https://localhost:8080/"
        },
        "id": "G4JpMV5DzJGa",
        "outputId": "4329cb73-8b1e-4ffe-f233-a56a6cfecd3d"
      },
      "execution_count": null,
      "outputs": [
        {
          "output_type": "stream",
          "name": "stdout",
          "text": [
            "True\n"
          ]
        }
      ]
    },
    {
      "cell_type": "code",
      "source": [
        "print((0.1 + 0.15 + 0.05) == (0.1 + 0.1 + 0.1))"
      ],
      "metadata": {
        "colab": {
          "base_uri": "https://localhost:8080/"
        },
        "id": "sfkv1T6QzRar",
        "outputId": "284067bb-10fa-4bd3-a057-ae7ecb7e421a"
      },
      "execution_count": null,
      "outputs": [
        {
          "output_type": "stream",
          "name": "stdout",
          "text": [
            "False\n"
          ]
        }
      ]
    },
    {
      "cell_type": "code",
      "source": [
        "print(0.1 + 0.15 + 0.05)"
      ],
      "metadata": {
        "colab": {
          "base_uri": "https://localhost:8080/"
        },
        "id": "O2SwVCkfzUOP",
        "outputId": "e8a6582b-5e62-4a4c-fe7c-ff25ada61e1c"
      },
      "execution_count": null,
      "outputs": [
        {
          "output_type": "stream",
          "name": "stdout",
          "text": [
            "0.3\n"
          ]
        }
      ]
    },
    {
      "cell_type": "code",
      "source": [
        "print(0.1 + 0.1 + 0.1)"
      ],
      "metadata": {
        "colab": {
          "base_uri": "https://localhost:8080/"
        },
        "id": "BZb8oN-JzW8P",
        "outputId": "2f0d7266-89a3-4804-b1f7-61ab8d23e5cc"
      },
      "execution_count": null,
      "outputs": [
        {
          "output_type": "stream",
          "name": "stdout",
          "text": [
            "0.30000000000000004\n"
          ]
        }
      ]
    },
    {
      "cell_type": "markdown",
      "source": [
        "Стои избегать прямого сравнения float, если вам важна точность операций.\n",
        "\n",
        "Чтобы обойти эту проблему, можно использовать функцию `round()`, чтобы округлить результат до нужного количества знаков после запятой:\n",
        "\n",
        "\n",
        "\n"
      ],
      "metadata": {
        "id": "LwLAzkHrzYMn"
      }
    },
    {
      "cell_type": "code",
      "source": [
        "x = 0.1 + 0.1 + 0.1\n",
        "y = 0.1 + 0.15 + 0.05\n",
        "\n",
        "print(round(x, 2) == round(y, 2))"
      ],
      "metadata": {
        "colab": {
          "base_uri": "https://localhost:8080/"
        },
        "id": "RoNZWZqUJg_b",
        "outputId": "63e216d8-6f04-4d22-ee3d-fe02ab113de4"
      },
      "execution_count": null,
      "outputs": [
        {
          "output_type": "stream",
          "name": "stdout",
          "text": [
            "True\n"
          ]
        }
      ]
    },
    {
      "cell_type": "markdown",
      "source": [
        "Более подробно можете почитать про это [здесь](https://teletype.in/@pythontalk/floating_point_problem)."
      ],
      "metadata": {
        "id": "y1tX2BivJf62"
      }
    },
    {
      "cell_type": "markdown",
      "metadata": {
        "id": "PY_n-RlR54ON"
      },
      "source": [
        "## Тернарный условный оператор\n",
        "\n",
        "Тернарный оператор в условиях Python - это способ написания коротких условных выражений.\n",
        "\n",
        "Общий синтаксис тернарного оператора выглядит так:\n",
        "\n",
        "`value_if_true if condition else value_if_false`"
      ]
    },
    {
      "cell_type": "code",
      "metadata": {
        "id": "D2owehr25SCh",
        "colab": {
          "base_uri": "https://localhost:8080/"
        },
        "outputId": "072bc1b8-e459-492d-c1bc-c594322f09d5"
      },
      "source": [
        "# это стандартная запись\n",
        "\n",
        "num = 7\n",
        "\n",
        "if num % 2 == 0:\n",
        "    print(\"Чётное\")\n",
        "else:\n",
        "    print(\"Нечётное\")"
      ],
      "execution_count": null,
      "outputs": [
        {
          "output_type": "stream",
          "name": "stdout",
          "text": [
            "Нечётное\n"
          ]
        }
      ]
    },
    {
      "cell_type": "code",
      "metadata": {
        "id": "pf8KAcfm6MGE",
        "colab": {
          "base_uri": "https://localhost:8080/"
        },
        "outputId": "48441241-f9d6-4ce1-aae3-668c3cf7c5d1"
      },
      "source": [
        "# а можно так\n",
        "print(\"Чётное\") if num % 2 == 0 else print(\"Нечётное\")"
      ],
      "execution_count": null,
      "outputs": [
        {
          "output_type": "stream",
          "name": "stdout",
          "text": [
            "Нечётное\n"
          ]
        }
      ]
    },
    {
      "cell_type": "markdown",
      "source": [
        "Тернарный оператор в Python очень удобен для написания коротких и простых условных выражений, но его следует использовать с осторожностью в более сложных ситуациях, чтобы не ухудшить читаемость кода."
      ],
      "metadata": {
        "id": "8gOlTYxHKzt9"
      }
    },
    {
      "cell_type": "markdown",
      "source": [
        "Определим квадрант, в котором находятся координаты\n",
        "\n"
      ],
      "metadata": {
        "id": "WSA4_iabdmCb"
      }
    },
    {
      "cell_type": "code",
      "source": [
        "x = float(input(\"Введите координату Х: \"))\n",
        "y = float(input(\"Введите координату Y: \"))\n",
        "\n",
        "if x != 0 and y != 0:\n",
        "    if x > 0 and y > 0:\n",
        "        print(\"I\")\n",
        "    elif x > 0 and y < 0:\n",
        "        print(\"IV\")\n",
        "    elif y > 0:\n",
        "        print(\"II\")\n",
        "    else:\n",
        "        print(\"III\")\n",
        "else:\n",
        "    print(\"На осях\")"
      ],
      "metadata": {
        "id": "mLNCKFmnSY5d",
        "colab": {
          "base_uri": "https://localhost:8080/"
        },
        "outputId": "6e723a87-c8b6-4763-b7d0-1eac2e8273ae"
      },
      "execution_count": null,
      "outputs": [
        {
          "output_type": "stream",
          "name": "stdout",
          "text": [
            "Введите координату Х: -6\n",
            "Введите координату Y: -9\n",
            "III\n"
          ]
        }
      ]
    },
    {
      "cell_type": "code",
      "source": [
        "x = float(input(\"Введите координату Х: \"))\n",
        "y = float(input(\"Введите координату Y: \"))\n",
        "\n",
        "if x != 0 and y != 0:\n",
        "    if x > 0:\n",
        "        if y > 0:\n",
        "            print(\"I\")\n",
        "        else:\n",
        "            print(\"IV\")\n",
        "    else:\n",
        "        if y > 0:\n",
        "            print(\"II\")\n",
        "        else:\n",
        "            print(\"III\")\n",
        "else:\n",
        "    print(\"На осях\")"
      ],
      "metadata": {
        "id": "eVCdGX0FSjik"
      },
      "execution_count": null,
      "outputs": []
    },
    {
      "cell_type": "code",
      "source": [
        "x = float(input(\"Введите координату Х: \"))\n",
        "y = float(input(\"Введите координату Y: \"))\n",
        "\n",
        "if x != 0 and y != 0:\n",
        "    if x > 0:\n",
        "        print(\"I\") if y > 0 else print(\"IV\")\n",
        "    else:\n",
        "        print(\"II\") if y > 0 else print(\"III\")\n",
        "else:\n",
        "    print(\"На осях\")"
      ],
      "metadata": {
        "id": "BsijeiFjanDd",
        "colab": {
          "base_uri": "https://localhost:8080/"
        },
        "outputId": "93a9d324-357d-4820-e20f-d222c55ac7e4"
      },
      "execution_count": null,
      "outputs": [
        {
          "output_type": "stream",
          "name": "stdout",
          "text": [
            "Введите координату Х: 6\n",
            "Введите координату Y: 8\n",
            "I\n"
          ]
        }
      ]
    },
    {
      "cell_type": "markdown",
      "source": [
        "## [match case](https://teletype.in/@pythontalk/match_case)"
      ],
      "metadata": {
        "id": "mN6QdDTKObAc"
      }
    },
    {
      "cell_type": "markdown",
      "source": [
        "Начиная с версии 3.10 в Python появилась такая функциональность как pattern matching (сопоставление шаблонов). С помощью выражения match-case можно избавиться от довольно громоздких цепочек if-elif-else, например:\n",
        "\n"
      ],
      "metadata": {
        "id": "ZSJs8hLyOagw"
      }
    },
    {
      "cell_type": "code",
      "source": [
        "language = \"russian\"\n",
        "\n",
        "if language == \"russian\":\n",
        "    print(\"Привет\")\n",
        "elif language == \"english\":\n",
        "    print(\"Hello\")\n",
        "elif language == \"german\":\n",
        "    print(\"Hallo\")"
      ],
      "metadata": {
        "id": "p8HMvX2iOqTT"
      },
      "execution_count": null,
      "outputs": []
    },
    {
      "cell_type": "markdown",
      "source": [
        "Проверка `language == \"something\"` повторяется многократно. И совершенно ясно, что при каждой проверке мы обращаемся к переменной `language`. Если бы можно было не повторять `language == \"something\"`, код стал бы чище и короче.\n",
        "\n",
        "Для этого можно использовать выражение match-case. Общая структура у него такая:\n",
        "\n",
        "```\n",
        "match element:\n",
        "    case pattern1:\n",
        "        # statements\n",
        "    case pattern2:\n",
        "        # statements\n",
        "    case pattern3:\n",
        "        # statements\n",
        "```\n",
        "\n",
        "В этой конструкции кода:\n",
        "\n",
        "* `match element` означает «сопоставьте элемент со следующими шаблонами»\n",
        "* затем каждое выражение `case pattern` сравнивает элемент с указанным шаблоном (это может быть, например, строка или число)\n",
        "* если шаблон соответствует элементу, выполняется соответствующий блок кода, после этого оператор match-case заканчивает свою работу.\n",
        "\n",
        "Обратите внимание, что блоки `case` имеют отступы от начала конструкции `match`. А инструкции каждого блока `case` имеют отступы от начала данного блока `case`.\n",
        "\n",
        "Причем если выражение из `match` не соответствует ни одному из шаблонов `case`, то соответственно ни один из этих блоков `case` не выполняется.\n",
        "\n",
        "\n",
        "\n"
      ],
      "metadata": {
        "id": "CRJR39eAPPFb"
      }
    },
    {
      "cell_type": "markdown",
      "source": [
        "Наш пример можно записать так:"
      ],
      "metadata": {
        "id": "-LGZ0cppPtSq"
      }
    },
    {
      "cell_type": "code",
      "source": [
        "language = \"russian\"\n",
        "\n",
        "match language:\n",
        "    case \"russian\":\n",
        "        print(\"Привет\")\n",
        "    case \"english\":\n",
        "        print(\"Hello\")\n",
        "    case \"german\":\n",
        "        print(\"Hallo\")"
      ],
      "metadata": {
        "id": "-No6ZqfYO4Mj",
        "colab": {
          "base_uri": "https://localhost:8080/"
        },
        "outputId": "8d09820f-7425-4277-a0f0-bf9074239e8c"
      },
      "execution_count": null,
      "outputs": [
        {
          "output_type": "stream",
          "name": "stdout",
          "text": [
            "Привет\n"
          ]
        }
      ]
    },
    {
      "cell_type": "markdown",
      "source": [
        "Во многих случаях такой вариант делает код более читаемым, избавляет его от повторений.\n",
        "\n"
      ],
      "metadata": {
        "id": "vR18dv0AO_65"
      }
    },
    {
      "cell_type": "markdown",
      "source": [
        "Если необходимо, чтобы при несовпадении значений (если ни один из шаблонов `case` не соответствует выражению `match`) выполнялись некоторые действия по умолчанию, то в этом случае применяется шаблон `_` (прочерк):\n",
        "\n"
      ],
      "metadata": {
        "id": "9a74akiOQWnO"
      }
    },
    {
      "cell_type": "code",
      "source": [
        "language = \"-\"\n",
        "match language:\n",
        "    case \"russian\":\n",
        "        print(\"Привет\")\n",
        "    case \"english\":\n",
        "        print(\"Hello\")\n",
        "    case \"german\":\n",
        "        print(\"Hallo\")\n",
        "    case _:\n",
        "        print(\"Неизвестный язык\")"
      ],
      "metadata": {
        "colab": {
          "base_uri": "https://localhost:8080/"
        },
        "id": "XdrrEFIlQa4w",
        "outputId": "8c953abf-f244-4391-f596-9c7064a4f147"
      },
      "execution_count": null,
      "outputs": [
        {
          "output_type": "stream",
          "name": "stdout",
          "text": [
            "Неизвестный язык\n"
          ]
        }
      ]
    },
    {
      "cell_type": "markdown",
      "source": [
        "Также можно определить блок case, который позволяет сравнивать сразу с несколькими знечениями. В этом случае значения разделяются вертикальной чертой (ИЛИ):\n",
        "\n"
      ],
      "metadata": {
        "id": "drFxur6KQf3B"
      }
    },
    {
      "cell_type": "code",
      "source": [
        "language = \"english\"\n",
        "match language:\n",
        "    case \"russian\":\n",
        "        print(\"Привет\")\n",
        "    case \"british english\" | \"american english\" | \"english\":\n",
        "    # elif language == \"english\" or language == \"american english\" or language == \"british english\":\n",
        "        print(\"Hello\")\n",
        "    case \"german\":\n",
        "        print(\"Hallo\")\n",
        "    case _:\n",
        "        print(\"Неизвестный язык\")"
      ],
      "metadata": {
        "colab": {
          "base_uri": "https://localhost:8080/"
        },
        "id": "KmVk2CiaRCGl",
        "outputId": "7b58fcb5-d517-4660-8e5e-7df3cf853c24"
      },
      "execution_count": null,
      "outputs": [
        {
          "output_type": "stream",
          "name": "stdout",
          "text": [
            "Hello\n"
          ]
        }
      ]
    },
    {
      "cell_type": "markdown",
      "metadata": {
        "id": "HskSJH7qwPDv"
      },
      "source": [
        "## Регулярные выражения\n",
        "Регулярные выражения (Regular Expressions, regex) — это формальный язык, основанный на использовании метасимволов, который применяется для работы с подстроками в тексте.\n",
        "\n",
        "Регулярные выражения позволяют создавать сложные правила поиска, валидации, замены в текстовых данных.\n",
        "\n",
        "Одна из особенностей регулярных выражений в их универсальности, стоит вам выучить синтаксис, и вы сможете применять их в любом (почти) языке программирования (JavaScript, Java, VB, C #, C / C++, Python, Perl, Ruby, Delphi, R, Tcl, и многих других). Небольшие отличия касаются только наиболее продвинутых функций и версий синтаксиса, поддерживаемых движком."
      ]
    },
    {
      "cell_type": "markdown",
      "metadata": {
        "id": "bmNLm5bMwPDw"
      },
      "source": [
        ">Если у вас есть проблема, и вы собираетесь ее решать с помощью регулярных выражений, тогда у вас будет уже две проблемы.\n",
        "\n",
        "<cite>Шутка из интернетов (не шутка)</cite>. [Вот так](https://www.ex-parrot.com/~pdw/Mail-RFC822-Address.html) может выглядеть страшная регулярка.\n"
      ]
    },
    {
      "cell_type": "markdown",
      "metadata": {
        "id": "JOfSwksmwPDw"
      },
      "source": [
        "### Основы синтаксиса регулярных выражений\n",
        "\n",
        "Универсальность и гибкость регулярных выражений заключается в том, что при создании подстроки мы можем использовать так называемые метасимволы, или символы подстановки. Метасимволы используются для замены других символов или их последовательностей. В результате получается не строгая структура подстроки, а своеобразный шаблон, который может быть соотнесён с несколькими вариантами реальных строк.\n",
        "\n",
        "Для освоения даже базовых приёмов работы с регулярными выражениями придётся потратить некоторое время для заучивания метасимволов и отработки навыков по созданию шаблонов. Однако в будущем вы сможете сэкономить гораздо больше времени при написании кода, в котором будут обрабатываться строковые данные.\n",
        "\n",
        "В таблице ниже представлены наиболее важные символы, использующиеся при создании регулярных выражений и примеры их применения."
      ]
    },
    {
      "cell_type": "markdown",
      "metadata": {
        "id": "m-f9dwO1wPDx"
      },
      "source": [
        "<table>\n",
        "<tbody>\n",
        "<tr>\n",
        "<td width=\"10%\"><b>Символ</b></td>\n",
        "<td width=\"50%\"><b>Пояснение</b></td>\n",
        "<td width=\"20%\"><b>Пример выражения</b></td>\n",
        "<td width=\"20%\"><b>Пример строки</b></td>\n",
        "</tr>\n",
        "<tr>\n",
        "<td>.</td>\n",
        "<td>Любой символ</td>\n",
        "<td>...</td>\n",
        "<td>A!#</td>\n",
        "</tr>\n",
        "<tr>\n",
        "<td>*</td>\n",
        "<td>Ноль и более&nbsp;совпадений с выражением, заданным в качестве образца&nbsp;</td>\n",
        "<td>123*</td>\n",
        "<td>123123123</td>\n",
        "</tr>\n",
        "<tr>\n",
        "<td>+</td>\n",
        "<td>Одно и более&nbsp;совпадений с выражением, заданным в качестве образца&nbsp;</td>\n",
        "<td>Ура!+</td>\n",
        "<td>Ура!Ура!</td>\n",
        "</tr>\n",
        "<tr>\n",
        "<td>?</td>\n",
        "<td>Ноль или одно&nbsp;совпадение с выражением, заданным в качестве образца&nbsp;</td>\n",
        "<td>один?</td>\n",
        "<td>один</td>\n",
        "</tr>\n",
        "<tr>\n",
        "<td>[ ]</td>\n",
        "<td>Совпадение с любым из символов, заключённым в скобки</td>\n",
        "<td>[a-z]</td>\n",
        "<td>b</td>\n",
        "</tr>\n",
        "<tr>\n",
        "<td>[^ ]</td>\n",
        "<td>Совпадение с любым из символов, отсутствующим в скобках</td>\n",
        "<td>[^a-z]</td>\n",
        "<td>5</td>\n",
        "</tr>\n",
        "<tr>\n",
        "<td>\\</td>\n",
        "<td>Экранирует специальные символы (т.е. позволяет использовать символы типа \".\", \"*\", \"?\" в роли обычных элементов строки)</td>\n",
        "<td>\\*</td>\n",
        "<td>*</td>\n",
        "</tr>\n",
        "</tbody>\n",
        "</table>"
      ]
    },
    {
      "cell_type": "markdown",
      "source": [
        "В приведённой выше таблице отмечены две роли метасимвола `\\`. С одной стороны, данный символ позволяет экранировать метасимволы, благодаря чему мы можем использовать точку, вопросительный знак, квадратные скобки и другие метасимволы по их прямому назначению (т.е. как обычную точку или вопросительный знак). Второе назначение обратного слэша — это сигнал о начале специальной последовательности, с помощью которой можно заменить определённую группу символов. Примеры таких последовательностей представлены в таблице ниже:"
      ],
      "metadata": {
        "id": "h7We6ccXPQUL"
      }
    },
    {
      "cell_type": "markdown",
      "metadata": {
        "id": "hVqMlffSwPDx"
      },
      "source": [
        "<table>\n",
        "<tbody>\n",
        "<tr>\n",
        "<td width=\"20%\"><b>Последовательность</b></td>\n",
        "<td width=\"60%\"><b>Описание</b></td>\n",
        "<td width=\"20%\"><b>Аналог с []</b></td>\n",
        "</tr>\n",
        "<tr>\n",
        "<td>\\d</td>\n",
        "<td>Любая цифра</td>\n",
        "<td>[0-9]</td>\n",
        "</tr>\n",
        "<tr>\n",
        "<td>\\D</td>\n",
        "<td>Всё что угодно, кроме цифры</td>\n",
        "<td>[^0-9]</td>\n",
        "</tr>\n",
        "<tr>\n",
        "<td>\\s</td>\n",
        "<td>Любой пробельный символ</td>\n",
        "<td>[ \\t\\n\\r\\f\\v]</td>\n",
        "</tr>\n",
        "<tr>\n",
        "<td>\\S</td>\n",
        "<td>Любой непробельный символ</td>\n",
        "<td>[^ \\t\\n\\r\\f\\v]</td>\n",
        "</tr>\n",
        "<tr>\n",
        "<td>\\w</td>\n",
        "<td>Любая буква, цифра, знак подчёркивания</td>\n",
        "<td>[a-zA-Z0-9_]</td>\n",
        "</tr>\n",
        "<tr>\n",
        "<td>\\W</td>\n",
        "<td>Всё что угодно, кроме букв, цифр и знака подчёркивания</td>\n",
        "<td>[^a-zA-Z0-9_]</td>\n",
        "</tr>\n",
        "</tbody>\n",
        "</table>"
      ]
    },
    {
      "cell_type": "markdown",
      "metadata": {
        "id": "LrYMvaQkwPDy"
      },
      "source": [
        "  Квантификатор после символа или группы определяет, сколько раз предшествующее выражение может встречаться.\n",
        "\n",
        "    {n,m}  повторений может быть от n до m включительно.\n",
        "    {n,}   n и более повторений.\n",
        "    {,m}   не более m повторений.\n",
        "    {n}    ровно n повторений"
      ]
    },
    {
      "cell_type": "markdown",
      "source": [
        "Методы и функции, предназначенные для работы с регулярными выражениями, не входят в базовый функционал языка Python. Тем не менее эта проблема легко разрешима. При разработке программ на Python мы можем, помимо использования стандартной библиотеки, подключать дополнительные библиотеки и модули, тем самым расширяя свои возможности по созданию программ. Для Python написано огромное количество модулей и библиотек.\n",
        "\n"
      ],
      "metadata": {
        "id": "Lb9ZxknKPy98"
      }
    },
    {
      "cell_type": "markdown",
      "source": [
        "### Модуль `re`"
      ],
      "metadata": {
        "id": "uFTmrU97P8Ns"
      }
    },
    {
      "cell_type": "markdown",
      "source": [
        "Методы и функции, предназначенные для работы с регулярными выражениями, не входят в базовый функционал языка Python. Тем не менее эта проблема легко разрешима. При разработке программ на Python мы можем, помимо использования стандартной библиотеки, подключать дополнительные [библиотеки и модули](https://t.me/pythontalk_ru/1589), тем самым расширяя свои возможности по созданию программ. Для Python написано огромное количество модулей и библиотек."
      ],
      "metadata": {
        "id": "YxnBnt4xgdUl"
      }
    },
    {
      "cell_type": "markdown",
      "source": [
        "Для работы с регулярными выражениями необходимо подключить дополнительный модуль, который называется `re`. Подключение происходит с помощью команды `import`, после которой необходимо указать имя модуля:\n",
        "\n"
      ],
      "metadata": {
        "id": "3hCGoVBDQBH3"
      }
    },
    {
      "cell_type": "code",
      "source": [
        "import re"
      ],
      "metadata": {
        "id": "PC7bTJjDQCg4"
      },
      "execution_count": null,
      "outputs": []
    },
    {
      "cell_type": "markdown",
      "source": [
        "После запуска на работу ячейки, содержащей этот код, нам будут доступны все функции и методы для работы с регулярными выражениями.\n",
        "\n",
        "Для вызова функции, которая является частью загруженного модуля, необходимо сначала указать имя модуля, и далее, через точку, указать имя функции."
      ],
      "metadata": {
        "id": "g9UVYf0QQIWV"
      }
    },
    {
      "cell_type": "markdown",
      "source": [
        "#### Функция `search`\n",
        "\n",
        "`search(pattern, string)` (англ. «поиск») ищет шаблон `pattern` в строке `string`. Хотя `search()` ищет шаблон во всей строке, возвращает он только первую найденную подстроку:"
      ],
      "metadata": {
        "id": "YqN1c86eQoCx"
      }
    },
    {
      "cell_type": "code",
      "source": [
        "text = \"\"\"Разработка языка Python была начата в конце 1980-х годов сотрудником голландского института CWI Гвидо ван Россумом.\n",
        "Для распределённой ОС Amoeba требовался расширяемый скриптовый язык, и Гвидо начал писать Python на досуге,\n",
        "позаимствовав некоторые наработки для языка ABC (Гвидо участвовал в разработке этого языка, ориентированного на обучение программированию).\n",
        "В феврале 1991 года Гвидо опубликовал исходный текст в группе новостей alt.sources. Название языка произошло вовсе не от вида пресмыкающихся.\n",
        "Автор назвал язык в честь популярного британского комедийного телешоу 1970-х \"Летающий цирк Монти Пайтона\".\"\"\""
      ],
      "metadata": {
        "id": "pZ8ZPlGrQuTH"
      },
      "execution_count": null,
      "outputs": []
    },
    {
      "cell_type": "markdown",
      "source": [
        "Функция `search()` возвращает объект типа `match` (англ. «соответствовать»). Параметр `span` (англ. «диапазон») указывает диапазон индексов, подходящих под шаблон."
      ],
      "metadata": {
        "id": "HwmKjsB_RJRJ"
      }
    },
    {
      "cell_type": "code",
      "source": [
        "res = re.search(\"\\w+\", text)\n",
        "\n",
        "print(res)"
      ],
      "metadata": {
        "id": "diYfiYFBQ38a",
        "colab": {
          "base_uri": "https://localhost:8080/"
        },
        "outputId": "76fbc6e2-d875-448a-929e-7416e03a1dc6"
      },
      "execution_count": null,
      "outputs": [
        {
          "output_type": "stream",
          "name": "stdout",
          "text": [
            "<re.Match object; span=(0, 10), match='Разработка'>\n"
          ]
        }
      ]
    },
    {
      "cell_type": "markdown",
      "source": [
        "\n",
        "\n",
        "Шаблону `\\w+` соответствует любая подстрока, содержащая одну и более букв, цифр или символ подчёркивания. Так как под шаблон не подходит пробел, метод вернул всё, что идёт до первого пробела."
      ],
      "metadata": {
        "id": "H4cRFH1pQ8sK"
      }
    },
    {
      "cell_type": "markdown",
      "source": [
        "Если нам не нужны дополнительные сведения о диапазоне, выведем только найденную подстроку методом `group()`:\n"
      ],
      "metadata": {
        "id": "8pP2dJQvRPFD"
      }
    },
    {
      "cell_type": "code",
      "source": [
        "print(res.group())"
      ],
      "metadata": {
        "colab": {
          "base_uri": "https://localhost:8080/"
        },
        "id": "aJsnyLU_RRbA",
        "outputId": "d4649ae2-683f-45ca-ecd2-7f6ebc8379ca"
      },
      "execution_count": null,
      "outputs": [
        {
          "output_type": "stream",
          "name": "stdout",
          "text": [
            "Разработка\n"
          ]
        }
      ]
    },
    {
      "cell_type": "markdown",
      "source": [
        "Можем начало и конец диапазона извлечь как integer:"
      ],
      "metadata": {
        "id": "I6Y8y8QTTayx"
      }
    },
    {
      "cell_type": "code",
      "source": [
        "print(res.start())\n",
        "print(res.end())"
      ],
      "metadata": {
        "id": "4MGQvGQeTf0W",
        "colab": {
          "base_uri": "https://localhost:8080/"
        },
        "outputId": "954feceb-1f90-4d70-c49d-3e417056667d"
      },
      "execution_count": null,
      "outputs": [
        {
          "output_type": "stream",
          "name": "stdout",
          "text": [
            "0\n",
            "10\n"
          ]
        }
      ]
    },
    {
      "cell_type": "markdown",
      "source": [
        "Достанем данные, содержащие русские буквы или пробел между символами `\"`"
      ],
      "metadata": {
        "id": "u6zkCMCmRZx6"
      }
    },
    {
      "cell_type": "code",
      "source": [
        "res = re.search('\"[А-Яа-яЁё ]+\"', text).group()\n",
        "print(res)"
      ],
      "metadata": {
        "id": "4cro8t5ZRdFU",
        "colab": {
          "base_uri": "https://localhost:8080/"
        },
        "outputId": "9392107d-8bce-4bb4-f141-f6da61c28b91"
      },
      "execution_count": null,
      "outputs": [
        {
          "output_type": "stream",
          "name": "stdout",
          "text": [
            "\"Летающий цирк Монти Пайтона\"\n"
          ]
        }
      ]
    },
    {
      "cell_type": "markdown",
      "source": [
        "Обратите внимание, что мы учли все символы, содержащиеся в нужной подстроке, в том числе — пробел.  \n"
      ],
      "metadata": {
        "id": "PsLjbJd-Rhnb"
      }
    },
    {
      "cell_type": "markdown",
      "source": [
        "#### Функция `sub`\n",
        "\n",
        "`sub(pattern, repl, string)` (от англ. substring, «подстрока») ищет подстроку `pattern` в строке `string` и заменяет его на подстроку `repl` (от англ. replace — «заменить»)."
      ],
      "metadata": {
        "id": "w4m6m5NmSea8"
      }
    },
    {
      "cell_type": "markdown",
      "metadata": {
        "id": "fq2RAOdcwPD0"
      },
      "source": [
        "Произведем замену \"Регулярные выражения\" во всех формах на \"regex\""
      ]
    },
    {
      "cell_type": "code",
      "metadata": {
        "id": "HCekNfNGwPD0"
      },
      "source": [
        "text = \"\"\"Что такое регулярные выражения и как их использовать?\n",
        "Говоря простым языком, регулярное выражение — это последовательность символов, используемая для поиска и замены текста в строке или файле. Как уже было упомянуто,\n",
        "их поддерживает множество языков общего назначения: Python, Perl, R.\n",
        "Так что изучение регулярных выражений рано или поздно пригодится.\"\"\""
      ],
      "execution_count": null,
      "outputs": []
    },
    {
      "cell_type": "code",
      "source": [
        "new_text = re.sub(\"[Рр]егулярн[а-я]{2,3} выражен[а-я]{2,4}\", \"regex\", text)\n",
        "\n",
        "print(new_text)"
      ],
      "metadata": {
        "id": "tORUuPGHIA3u",
        "colab": {
          "base_uri": "https://localhost:8080/"
        },
        "outputId": "50a03d81-fb82-4940-fa2f-1771d118de72"
      },
      "execution_count": null,
      "outputs": [
        {
          "output_type": "stream",
          "name": "stdout",
          "text": [
            "Что такое regex и как их использовать?\n",
            "Говоря простым языком, regex — это последовательность символов, используемая для поиска и замены текста в строке или файле. Как уже было упомянуто,\n",
            "их поддерживает множество языков общего назначения: Python, Perl, R.\n",
            "Так что изучение regex рано или поздно пригодится.\n"
          ]
        }
      ]
    },
    {
      "cell_type": "markdown",
      "metadata": {
        "id": "0EgIDMFQwPD1"
      },
      "source": [
        "Простой способ удалить все служебные символы"
      ]
    },
    {
      "cell_type": "code",
      "metadata": {
        "id": "I8PfgKZVwPD1",
        "colab": {
          "base_uri": "https://localhost:8080/"
        },
        "outputId": "a00b5fce-a9f8-45aa-a42d-8c1424e7100a"
      },
      "source": [
        "text = \"\"\"Что такое регулярные выражения и как их использовать?\n",
        "Говоря простым языком, регулярное выражение — это последовательность символов, используемая для поиска и замены текста в строке или файле. Как уже было упомянуто,\n",
        "их поддерживает множество языков общего назначения: Python, Perl, R.\n",
        "Так что изучение регулярных выражений рано или поздно пригодится.\"\"\"\n",
        "\n",
        "new_text = re.sub(\"[^\\w\\s]\", \"\", text)\n",
        "print(new_text)"
      ],
      "execution_count": null,
      "outputs": [
        {
          "output_type": "stream",
          "name": "stdout",
          "text": [
            "Что такое регулярные выражения и как их использовать\n",
            "Говоря простым языком регулярное выражение  это последовательность символов используемая для поиска и замены текста в строке или файле Как уже было упомянуто\n",
            "их поддерживает множество языков общего назначения Python Perl R\n",
            "Так что изучение регулярных выражений рано или поздно пригодится\n"
          ]
        }
      ]
    },
    {
      "cell_type": "markdown",
      "metadata": {
        "id": "aOL5iGS9BlF0"
      },
      "source": [
        "## Рекомендуемые материалы\n",
        "\n",
        "1. Подбора бесплатных тренажёров: https://olegtalks.ru/base\n",
        "2. Литература:\n",
        " - А Byte of Python [англ. версия](https://python.swaroopch.com/), [рус. перевод](https://zhekazuev.github.io/byte-of-python-ru/). Легально, бесплатно, без СМС и регистрации.\n",
        " - [Адитья Бхаргава, Грокаем алгоритмы](https://bit.ly/3IWxklj). Бесплатно сами.\n",
        "3. Сервисы для работы с регулярными выражениями:\n",
        "    - [regex101](https://regex101.com/)\n",
        "    - [ihateregex](https://ihateregex.io)\n",
        "4. [Табы или пробелы?](https://t.me/pythontalk_ru/2256)\n",
        "5. [Как выбрать имя переменной?](https://t.me/pythontalk_ru/1802)\n",
        "6. [Почему мой код не работает?](https://t.me/pythontalk_ru/1709)\n",
        "\n"
      ]
    },
    {
      "cell_type": "code",
      "source": [],
      "metadata": {
        "id": "3cFTXsMEzVIb"
      },
      "execution_count": null,
      "outputs": []
    }
  ]
}