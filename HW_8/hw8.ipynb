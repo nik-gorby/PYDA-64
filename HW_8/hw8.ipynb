{
 "cells": [
  {
   "cell_type": "markdown",
   "metadata": {},
   "source": [
    "### Необходимые импорты"
   ]
  },
  {
   "cell_type": "code",
   "execution_count": 1,
   "metadata": {},
   "outputs": [],
   "source": [
    "import numpy as np\n",
    "import pandas as pd"
   ]
  },
  {
   "cell_type": "markdown",
   "metadata": {},
   "source": [
    "## Задание 1\n",
    "- Определите, какому фильму было выставлено больше всего оценок 5.0."
   ]
  },
  {
   "cell_type": "markdown",
   "metadata": {},
   "source": [
    "Загрузим данные"
   ]
  },
  {
   "cell_type": "code",
   "execution_count": 7,
   "metadata": {},
   "outputs": [],
   "source": [
    "df_ratings = pd.read_csv('./hw8_task1/ratings.csv')\n",
    "df_movies = pd.read_csv('./hw8_task1/movies.csv')"
   ]
  },
  {
   "cell_type": "markdown",
   "metadata": {},
   "source": [
    "Посмотрим, что внутри"
   ]
  },
  {
   "cell_type": "code",
   "execution_count": 15,
   "metadata": {},
   "outputs": [
    {
     "data": {
      "text/html": [
       "<div>\n",
       "<style scoped>\n",
       "    .dataframe tbody tr th:only-of-type {\n",
       "        vertical-align: middle;\n",
       "    }\n",
       "\n",
       "    .dataframe tbody tr th {\n",
       "        vertical-align: top;\n",
       "    }\n",
       "\n",
       "    .dataframe thead th {\n",
       "        text-align: right;\n",
       "    }\n",
       "</style>\n",
       "<table border=\"1\" class=\"dataframe\">\n",
       "  <thead>\n",
       "    <tr style=\"text-align: right;\">\n",
       "      <th></th>\n",
       "      <th>movieId</th>\n",
       "      <th>title</th>\n",
       "      <th>genres</th>\n",
       "    </tr>\n",
       "  </thead>\n",
       "  <tbody>\n",
       "    <tr>\n",
       "      <th>3738</th>\n",
       "      <td>5198</td>\n",
       "      <td>Long Good Friday, The (1980)</td>\n",
       "      <td>Drama|Thriller</td>\n",
       "    </tr>\n",
       "    <tr>\n",
       "      <th>1357</th>\n",
       "      <td>1848</td>\n",
       "      <td>Borrowers, The (1997)</td>\n",
       "      <td>Adventure|Children|Comedy|Fantasy</td>\n",
       "    </tr>\n",
       "    <tr>\n",
       "      <th>5161</th>\n",
       "      <td>8361</td>\n",
       "      <td>Day After Tomorrow, The (2004)</td>\n",
       "      <td>Action|Adventure|Drama|Sci-Fi|Thriller</td>\n",
       "    </tr>\n",
       "    <tr>\n",
       "      <th>8624</th>\n",
       "      <td>118862</td>\n",
       "      <td>Closer to the Moon (2013)</td>\n",
       "      <td>Comedy|Drama</td>\n",
       "    </tr>\n",
       "    <tr>\n",
       "      <th>534</th>\n",
       "      <td>631</td>\n",
       "      <td>All Dogs Go to Heaven 2 (1996)</td>\n",
       "      <td>Adventure|Animation|Children|Fantasy|Musical|R...</td>\n",
       "    </tr>\n",
       "  </tbody>\n",
       "</table>\n",
       "</div>"
      ],
      "text/plain": [
       "      movieId                           title  \\\n",
       "3738     5198    Long Good Friday, The (1980)   \n",
       "1357     1848           Borrowers, The (1997)   \n",
       "5161     8361  Day After Tomorrow, The (2004)   \n",
       "8624   118862       Closer to the Moon (2013)   \n",
       "534       631  All Dogs Go to Heaven 2 (1996)   \n",
       "\n",
       "                                                 genres  \n",
       "3738                                     Drama|Thriller  \n",
       "1357                  Adventure|Children|Comedy|Fantasy  \n",
       "5161             Action|Adventure|Drama|Sci-Fi|Thriller  \n",
       "8624                                       Comedy|Drama  \n",
       "534   Adventure|Animation|Children|Fantasy|Musical|R...  "
      ]
     },
     "execution_count": 15,
     "metadata": {},
     "output_type": "execute_result"
    }
   ],
   "source": [
    "df_movies.sample(5)"
   ]
  },
  {
   "cell_type": "code",
   "execution_count": 16,
   "metadata": {},
   "outputs": [
    {
     "data": {
      "text/html": [
       "<div>\n",
       "<style scoped>\n",
       "    .dataframe tbody tr th:only-of-type {\n",
       "        vertical-align: middle;\n",
       "    }\n",
       "\n",
       "    .dataframe tbody tr th {\n",
       "        vertical-align: top;\n",
       "    }\n",
       "\n",
       "    .dataframe thead th {\n",
       "        text-align: right;\n",
       "    }\n",
       "</style>\n",
       "<table border=\"1\" class=\"dataframe\">\n",
       "  <thead>\n",
       "    <tr style=\"text-align: right;\">\n",
       "      <th></th>\n",
       "      <th>userId</th>\n",
       "      <th>movieId</th>\n",
       "      <th>rating</th>\n",
       "      <th>timestamp</th>\n",
       "    </tr>\n",
       "  </thead>\n",
       "  <tbody>\n",
       "    <tr>\n",
       "      <th>99152</th>\n",
       "      <td>608</td>\n",
       "      <td>3361</td>\n",
       "      <td>2.5</td>\n",
       "      <td>1117503046</td>\n",
       "    </tr>\n",
       "    <tr>\n",
       "      <th>80699</th>\n",
       "      <td>509</td>\n",
       "      <td>63992</td>\n",
       "      <td>1.5</td>\n",
       "      <td>1435994716</td>\n",
       "    </tr>\n",
       "    <tr>\n",
       "      <th>1555</th>\n",
       "      <td>15</td>\n",
       "      <td>122882</td>\n",
       "      <td>2.0</td>\n",
       "      <td>1510572126</td>\n",
       "    </tr>\n",
       "    <tr>\n",
       "      <th>71262</th>\n",
       "      <td>456</td>\n",
       "      <td>64</td>\n",
       "      <td>3.0</td>\n",
       "      <td>856883540</td>\n",
       "    </tr>\n",
       "    <tr>\n",
       "      <th>63021</th>\n",
       "      <td>414</td>\n",
       "      <td>2116</td>\n",
       "      <td>4.0</td>\n",
       "      <td>961514985</td>\n",
       "    </tr>\n",
       "  </tbody>\n",
       "</table>\n",
       "</div>"
      ],
      "text/plain": [
       "       userId  movieId  rating   timestamp\n",
       "99152     608     3361     2.5  1117503046\n",
       "80699     509    63992     1.5  1435994716\n",
       "1555       15   122882     2.0  1510572126\n",
       "71262     456       64     3.0   856883540\n",
       "63021     414     2116     4.0   961514985"
      ]
     },
     "execution_count": 16,
     "metadata": {},
     "output_type": "execute_result"
    }
   ],
   "source": [
    "df_ratings.sample(5)"
   ]
  },
  {
   "cell_type": "markdown",
   "metadata": {},
   "source": [
    "Объединим датасеты"
   ]
  },
  {
   "cell_type": "code",
   "execution_count": 19,
   "metadata": {},
   "outputs": [
    {
     "data": {
      "text/html": [
       "<div>\n",
       "<style scoped>\n",
       "    .dataframe tbody tr th:only-of-type {\n",
       "        vertical-align: middle;\n",
       "    }\n",
       "\n",
       "    .dataframe tbody tr th {\n",
       "        vertical-align: top;\n",
       "    }\n",
       "\n",
       "    .dataframe thead th {\n",
       "        text-align: right;\n",
       "    }\n",
       "</style>\n",
       "<table border=\"1\" class=\"dataframe\">\n",
       "  <thead>\n",
       "    <tr style=\"text-align: right;\">\n",
       "      <th></th>\n",
       "      <th>movieId</th>\n",
       "      <th>title</th>\n",
       "      <th>genres</th>\n",
       "      <th>userId</th>\n",
       "      <th>rating</th>\n",
       "      <th>timestamp</th>\n",
       "    </tr>\n",
       "  </thead>\n",
       "  <tbody>\n",
       "    <tr>\n",
       "      <th>16296</th>\n",
       "      <td>593</td>\n",
       "      <td>Silence of the Lambs, The (1991)</td>\n",
       "      <td>Crime|Horror|Thriller</td>\n",
       "      <td>137</td>\n",
       "      <td>4.0</td>\n",
       "      <td>1204859748</td>\n",
       "    </tr>\n",
       "    <tr>\n",
       "      <th>68844</th>\n",
       "      <td>5902</td>\n",
       "      <td>Adaptation (2002)</td>\n",
       "      <td>Comedy|Drama|Romance</td>\n",
       "      <td>393</td>\n",
       "      <td>0.5</td>\n",
       "      <td>1430507509</td>\n",
       "    </tr>\n",
       "    <tr>\n",
       "      <th>92875</th>\n",
       "      <td>86911</td>\n",
       "      <td>Hangover Part II, The (2011)</td>\n",
       "      <td>Comedy</td>\n",
       "      <td>111</td>\n",
       "      <td>3.5</td>\n",
       "      <td>1516141354</td>\n",
       "    </tr>\n",
       "    <tr>\n",
       "      <th>24578</th>\n",
       "      <td>1193</td>\n",
       "      <td>One Flew Over the Cuckoo's Nest (1975)</td>\n",
       "      <td>Drama</td>\n",
       "      <td>329</td>\n",
       "      <td>4.0</td>\n",
       "      <td>1523468322</td>\n",
       "    </tr>\n",
       "    <tr>\n",
       "      <th>20292</th>\n",
       "      <td>903</td>\n",
       "      <td>Vertigo (1958)</td>\n",
       "      <td>Drama|Mystery|Romance|Thriller</td>\n",
       "      <td>221</td>\n",
       "      <td>5.0</td>\n",
       "      <td>1111178200</td>\n",
       "    </tr>\n",
       "  </tbody>\n",
       "</table>\n",
       "</div>"
      ],
      "text/plain": [
       "       movieId                                   title  \\\n",
       "16296      593        Silence of the Lambs, The (1991)   \n",
       "68844     5902                       Adaptation (2002)   \n",
       "92875    86911            Hangover Part II, The (2011)   \n",
       "24578     1193  One Flew Over the Cuckoo's Nest (1975)   \n",
       "20292      903                          Vertigo (1958)   \n",
       "\n",
       "                               genres  userId  rating   timestamp  \n",
       "16296           Crime|Horror|Thriller     137     4.0  1204859748  \n",
       "68844            Comedy|Drama|Romance     393     0.5  1430507509  \n",
       "92875                          Comedy     111     3.5  1516141354  \n",
       "24578                           Drama     329     4.0  1523468322  \n",
       "20292  Drama|Mystery|Romance|Thriller     221     5.0  1111178200  "
      ]
     },
     "execution_count": 19,
     "metadata": {},
     "output_type": "execute_result"
    }
   ],
   "source": [
    "df_movie_ratings = df_movies.merge(df_ratings, on='movieId')\n",
    "\n",
    "df_movie_ratings.sample(5)"
   ]
  },
  {
   "cell_type": "markdown",
   "metadata": {},
   "source": [
    "Отфильтруем фильмы с оценкой \"5\" и выведем название того, у кого больше всего таких оценок"
   ]
  },
  {
   "cell_type": "code",
   "execution_count": 31,
   "metadata": {},
   "outputs": [
    {
     "data": {
      "text/html": [
       "<div>\n",
       "<style scoped>\n",
       "    .dataframe tbody tr th:only-of-type {\n",
       "        vertical-align: middle;\n",
       "    }\n",
       "\n",
       "    .dataframe tbody tr th {\n",
       "        vertical-align: top;\n",
       "    }\n",
       "\n",
       "    .dataframe thead th {\n",
       "        text-align: right;\n",
       "    }\n",
       "</style>\n",
       "<table border=\"1\" class=\"dataframe\">\n",
       "  <thead>\n",
       "    <tr style=\"text-align: right;\">\n",
       "      <th></th>\n",
       "      <th>title</th>\n",
       "      <th>count</th>\n",
       "    </tr>\n",
       "  </thead>\n",
       "  <tbody>\n",
       "    <tr>\n",
       "      <th>0</th>\n",
       "      <td>Shawshank Redemption, The (1994)</td>\n",
       "      <td>153</td>\n",
       "    </tr>\n",
       "  </tbody>\n",
       "</table>\n",
       "</div>"
      ],
      "text/plain": [
       "                              title  count\n",
       "0  Shawshank Redemption, The (1994)    153"
      ]
     },
     "execution_count": 31,
     "metadata": {},
     "output_type": "execute_result"
    }
   ],
   "source": [
    "df_movie_ratings[df_movie_ratings['rating'] == 5]['title'].value_counts().head(1).reset_index()"
   ]
  }
 ],
 "metadata": {
  "kernelspec": {
   "display_name": "venv",
   "language": "python",
   "name": "python3"
  },
  "language_info": {
   "codemirror_mode": {
    "name": "ipython",
    "version": 3
   },
   "file_extension": ".py",
   "mimetype": "text/x-python",
   "name": "python",
   "nbconvert_exporter": "python",
   "pygments_lexer": "ipython3",
   "version": "3.12.3"
  }
 },
 "nbformat": 4,
 "nbformat_minor": 2
}
